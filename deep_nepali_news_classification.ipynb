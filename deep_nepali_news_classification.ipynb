{
 "cells": [
  {
   "cell_type": "markdown",
   "metadata": {},
   "source": [
    "# Sentiment Analysis in torchtext"
   ]
  },
  {
   "cell_type": "markdown",
   "metadata": {},
   "source": [
    "### Imports"
   ]
  },
  {
   "cell_type": "code",
   "execution_count": 1,
   "metadata": {},
   "outputs": [],
   "source": [
    "'''\n",
    "    Reference - https://github.com/hpanwar08/sentiment-analysis-torchtext/blob/master/Sentiment_Analysis_torchtext.ipynb\n",
    "'''\n",
    "%matplotlib inline\n",
    "import os, sys\n",
    "import re\n",
    "import string\n",
    "import pathlib\n",
    "import random\n",
    "from collections import Counter, OrderedDict\n",
    "import numpy as np\n",
    "import pandas as pd\n",
    "import matplotlib.pyplot as plt\n",
    "import seaborn as sns\n",
    "import spacy\n",
    "from tqdm import tqdm, tqdm_notebook, tnrange\n",
    "tqdm.pandas(desc='Progress')\n",
    "\n",
    "import torch\n",
    "import torch.nn as nn\n",
    "import torch.optim as optim\n",
    "from torch.autograd import Variable\n",
    "import torch.nn.functional as F\n",
    "from torch.nn.utils.rnn import pack_padded_sequence, pad_packed_sequence\n",
    "\n",
    "import torchtext\n",
    "from torchtext import data\n",
    "from torchtext import vocab\n",
    "\n",
    "from sklearn.model_selection import StratifiedShuffleSplit, train_test_split\n",
    "from sklearn.metrics import accuracy_score\n",
    "\n",
    "from IPython.core.interactiveshell import InteractiveShell\n",
    "InteractiveShell.ast_node_interactivity='all'\n",
    "\n",
    "import warnings\n",
    "warnings.filterwarnings('ignore')\n",
    "\n",
    "device = torch.device(\"cuda:0\" if torch.cuda.is_available() else \"cpu\")"
   ]
  },
  {
   "cell_type": "code",
   "execution_count": 2,
   "metadata": {},
   "outputs": [
    {
     "name": "stdout",
     "output_type": "stream",
     "text": [
      "Python version: 3.6.7 |Anaconda, Inc.| (default, Oct 23 2018, 19:29:21) \n",
      "[GCC 7.3.0]\n",
      "Pandas version: 0.23.4\n",
      "Pytorch version: 0.4.0\n",
      "Torch Text version: 0.3.1\n",
      "Spacy version: 2.0.16\n"
     ]
    }
   ],
   "source": [
    "print('Python version:',sys.version)\n",
    "print('Pandas version:',pd.__version__)\n",
    "print('Pytorch version:', torch.__version__)\n",
    "print('Torch Text version:', torchtext.__version__)\n",
    "print('Spacy version:', spacy.__version__)"
   ]
  },
  {
   "cell_type": "markdown",
   "metadata": {},
   "source": [
    "### Load data"
   ]
  },
  {
   "cell_type": "code",
   "execution_count": 3,
   "metadata": {},
   "outputs": [],
   "source": [
    "data_root = pathlib.Path('./data/raw/')\n",
    "\n",
    "classes = ['Auto', 'Bank', 'Blog', 'Business Interview',\n",
    "           'Economy', 'Education', 'Employment', 'Entertainment',\n",
    "           'Interview', 'Literature', 'National News', 'Opinion',\n",
    "           'Sports', 'Technology', 'Tourism', 'World']"
   ]
  },
  {
   "cell_type": "code",
   "execution_count": 4,
   "metadata": {},
   "outputs": [
    {
     "data": {
      "text/plain": [
       "(10594, 2)"
      ]
     },
     "execution_count": 4,
     "metadata": {},
     "output_type": "execute_result"
    },
    {
     "data": {
      "text/html": [
       "<div>\n",
       "<style scoped>\n",
       "    .dataframe tbody tr th:only-of-type {\n",
       "        vertical-align: middle;\n",
       "    }\n",
       "\n",
       "    .dataframe tbody tr th {\n",
       "        vertical-align: top;\n",
       "    }\n",
       "\n",
       "    .dataframe thead th {\n",
       "        text-align: right;\n",
       "    }\n",
       "</style>\n",
       "<table border=\"1\" class=\"dataframe\">\n",
       "  <thead>\n",
       "    <tr style=\"text-align: right;\">\n",
       "      <th></th>\n",
       "      <th>label</th>\n",
       "      <th>data</th>\n",
       "    </tr>\n",
       "  </thead>\n",
       "  <tbody>\n",
       "    <tr>\n",
       "      <th>0</th>\n",
       "      <td>10</td>\n",
       "      <td>थारु सभासदहरुले कैलालीको टीकापुरमा भएको झडपमा ...</td>\n",
       "    </tr>\n",
       "    <tr>\n",
       "      <th>1</th>\n",
       "      <td>10</td>\n",
       "      <td>राजविराज  चैत  सप्तरी प्रहरीले पातो गाविसबाट स...</td>\n",
       "    </tr>\n",
       "    <tr>\n",
       "      <th>2</th>\n",
       "      <td>1</td>\n",
       "      <td>गजेन्द्र बुढाथोकीकाठमाडौं  माघ  बैंकिङ क्षेत्र...</td>\n",
       "    </tr>\n",
       "    <tr>\n",
       "      <th>3</th>\n",
       "      <td>10</td>\n",
       "      <td>उपप्रधानमन्त्री कमल थापाले संविधानमा असहमति हु...</td>\n",
       "    </tr>\n",
       "    <tr>\n",
       "      <th>4</th>\n",
       "      <td>10</td>\n",
       "      <td>असोज काठमाडौं  अमेरिकी अधिकारीहरुले आधिकारिक ...</td>\n",
       "    </tr>\n",
       "  </tbody>\n",
       "</table>\n",
       "</div>"
      ],
      "text/plain": [
       "   label                                               data\n",
       "0     10  थारु सभासदहरुले कैलालीको टीकापुरमा भएको झडपमा ...\n",
       "1     10  राजविराज  चैत  सप्तरी प्रहरीले पातो गाविसबाट स...\n",
       "2      1  गजेन्द्र बुढाथोकीकाठमाडौं  माघ  बैंकिङ क्षेत्र...\n",
       "3     10  उपप्रधानमन्त्री कमल थापाले संविधानमा असहमति हु...\n",
       "4     10   असोज काठमाडौं  अमेरिकी अधिकारीहरुले आधिकारिक ..."
      ]
     },
     "execution_count": 4,
     "metadata": {},
     "output_type": "execute_result"
    }
   ],
   "source": [
    "df = pd.read_csv('./data/raw/train.csv', error_bad_lines=False)\n",
    "df.shape\n",
    "df.head()"
   ]
  },
  {
   "cell_type": "code",
   "execution_count": 5,
   "metadata": {},
   "outputs": [],
   "source": [
    "df = df.rename(index=str, columns={\"data\": \"SentimentText\", \"label\": \"Sentiment\"})"
   ]
  },
  {
   "cell_type": "code",
   "execution_count": 6,
   "metadata": {},
   "outputs": [
    {
     "data": {
      "image/png": "[encoded data removed]",
      "text/plain": [
       "<Figure size 576x360 with 1 Axes>"
      ]
     },
     "metadata": {
      "needs_background": "light"
     },
     "output_type": "display_data"
    }
   ],
   "source": [
    "fig = plt.figure(figsize=(8,5))\n",
    "ax = sns.barplot(x=df.Sentiment.unique(), y=df.Sentiment.value_counts());\n",
    "ax.set(xlabel='Labels');"
   ]
  },
  {
   "cell_type": "markdown",
   "metadata": {},
   "source": [
    "## Train validation split"
   ]
  },
  {
   "cell_type": "markdown",
   "metadata": {},
   "source": [
    "##### torchtext have trouble handling \\n. Replace \\n character with space."
   ]
  },
  {
   "cell_type": "code",
   "execution_count": 7,
   "metadata": {},
   "outputs": [
    {
     "name": "stderr",
     "output_type": "stream",
     "text": [
      "Progress: 100%|██████████| 10594/10594 [00:00<00:00, 191369.46it/s]\n"
     ]
    }
   ],
   "source": [
    "df['SentimentText'] = df.SentimentText.progress_apply(lambda x: re.sub('\\n', ' ', x))"
   ]
  },
  {
   "cell_type": "code",
   "execution_count": 8,
   "metadata": {},
   "outputs": [],
   "source": [
    "def split_train_test(df, test_size=0.2):\n",
    "    train, val = train_test_split(df, test_size=test_size,random_state=42)\n",
    "    return train.reset_index(drop=True), val.reset_index(drop=True)"
   ]
  },
  {
   "cell_type": "code",
   "execution_count": 9,
   "metadata": {},
   "outputs": [],
   "source": [
    "traindf, valdf = split_train_test(df, test_size=0.2)"
   ]
  },
  {
   "cell_type": "code",
   "execution_count": 10,
   "metadata": {},
   "outputs": [
    {
     "data": {
      "text/plain": [
       "(8475, 2)"
      ]
     },
     "execution_count": 10,
     "metadata": {},
     "output_type": "execute_result"
    },
    {
     "data": {
      "text/plain": [
       "10    4363\n",
       "12    1365\n",
       "7      719\n",
       "4      697\n",
       "11     342\n",
       "1      216\n",
       "2      134\n",
       "14     126\n",
       "15     116\n",
       "6       88\n",
       "3       84\n",
       "13      56\n",
       "5       54\n",
       "8       53\n",
       "0       52\n",
       "9       10\n",
       "Name: Sentiment, dtype: int64"
      ]
     },
     "execution_count": 10,
     "metadata": {},
     "output_type": "execute_result"
    }
   ],
   "source": [
    "traindf.shape\n",
    "traindf.Sentiment.value_counts()"
   ]
  },
  {
   "cell_type": "code",
   "execution_count": 11,
   "metadata": {},
   "outputs": [
    {
     "data": {
      "text/plain": [
       "(2119, 2)"
      ]
     },
     "execution_count": 11,
     "metadata": {},
     "output_type": "execute_result"
    },
    {
     "data": {
      "text/plain": [
       "10    1111\n",
       "12     341\n",
       "4      181\n",
       "7      162\n",
       "11      77\n",
       "1       54\n",
       "15      37\n",
       "14      34\n",
       "2       27\n",
       "3       24\n",
       "6       20\n",
       "0       16\n",
       "8       12\n",
       "5       11\n",
       "13       9\n",
       "9        3\n",
       "Name: Sentiment, dtype: int64"
      ]
     },
     "execution_count": 11,
     "metadata": {},
     "output_type": "execute_result"
    }
   ],
   "source": [
    "valdf.shape\n",
    "valdf.Sentiment.value_counts()"
   ]
  },
  {
   "cell_type": "markdown",
   "metadata": {},
   "source": [
    "##### Save the train and validation df"
   ]
  },
  {
   "cell_type": "code",
   "execution_count": 12,
   "metadata": {},
   "outputs": [],
   "source": [
    "traindf.to_csv(data_root/'traindf.csv', index=False)\n",
    "valdf.to_csv(data_root/'valdf.csv', index=False)"
   ]
  },
  {
   "cell_type": "markdown",
   "metadata": {},
   "source": [
    "## 1. Define how to process data"
   ]
  },
  {
   "cell_type": "markdown",
   "metadata": {},
   "source": [
    "##### Preprocessing"
   ]
  },
  {
   "cell_type": "code",
   "execution_count": 13,
   "metadata": {},
   "outputs": [],
   "source": [
    "nlp = spacy.load('en',disable=['parser', 'tagger', 'ner'])\n",
    "def tokenizer(s): return [w.text.lower() for w in nlp(tweet_clean(s))]"
   ]
  },
  {
   "cell_type": "code",
   "execution_count": 14,
   "metadata": {},
   "outputs": [],
   "source": [
    "def tweet_clean(text):\n",
    "    text = re.sub(r'[^A-Za-z0-9]+', ' ', text) # remove non alphanumeric character\n",
    "    text = re.sub(r'https?:/\\/\\S+', ' ', text) # remove links\n",
    "    return text.strip()"
   ]
  },
  {
   "cell_type": "code",
   "execution_count": 15,
   "metadata": {},
   "outputs": [],
   "source": [
    "def tokenizer(s): return s.split()"
   ]
  },
  {
   "cell_type": "markdown",
   "metadata": {},
   "source": [
    "##### Define fields"
   ]
  },
  {
   "cell_type": "code",
   "execution_count": 16,
   "metadata": {},
   "outputs": [],
   "source": [
    "txt_field = data.Field(sequential=True, tokenize=tokenizer, include_lengths=True, use_vocab=True)\n",
    "label_field = data.Field(sequential=False, use_vocab=False, pad_token=None, unk_token=None)\n",
    "\n",
    "train_val_fields = [\n",
    "    ('Sentiment', label_field),\n",
    "    ('SentimentText', txt_field)\n",
    "]"
   ]
  },
  {
   "cell_type": "markdown",
   "metadata": {},
   "source": [
    "## 2. Create torchtext dataset"
   ]
  },
  {
   "cell_type": "code",
   "execution_count": 17,
   "metadata": {},
   "outputs": [
    {
     "name": "stdout",
     "output_type": "stream",
     "text": [
      "CPU times: user 1.04 s, sys: 28 ms, total: 1.06 s\n",
      "Wall time: 1.06 s\n"
     ]
    }
   ],
   "source": [
    "%%time\n",
    "trainds, valds = data.TabularDataset.splits(path=data_root, format='csv', train='traindf.csv', validation='valdf.csv', fields=train_val_fields, skip_header=True)"
   ]
  },
  {
   "cell_type": "code",
   "execution_count": 18,
   "metadata": {},
   "outputs": [
    {
     "data": {
      "text/plain": [
       "(8475, 2119)"
      ]
     },
     "execution_count": 18,
     "metadata": {},
     "output_type": "execute_result"
    }
   ],
   "source": [
    "len(trainds), len(valds)"
   ]
  },
  {
   "cell_type": "code",
   "execution_count": null,
   "metadata": {},
   "outputs": [
    {
     "data": {
      "text/plain": [
       "dict_items([('Sentiment', <torchtext.data.field.Field object at 0x3ffcf48ffb38>), ('SentimentText', <torchtext.data.field.Field object at 0x3ffcf48ffba8>)])"
      ]
     },
     "execution_count": 19,
     "metadata": {},
     "output_type": "execute_result"
    },
    {
     "data": {
      "text/plain": [
       "'10'"
      ]
     },
     "execution_count": 19,
     "metadata": {},
     "output_type": "execute_result"
    },
    {
     "data": {
      "text/plain": [
       "['बैशाख',\n",
       " 'चितवन',\n",
       " 'चितवनमा',\n",
       " 'सञ्चालित',\n",
       " 'अधिकांश',\n",
       " 'ड्राइभिङ',\n",
       " 'सेन्टरहरु',\n",
       " 'नियमविपरीत',\n",
       " 'सञ्चालन',\n",
       " 'भइरहेको',\n",
       " 'फेला',\n",
       " 'परेका',\n",
       " 'छन्',\n",
       " 'जसमध्ये',\n",
       " 'मापदण्ड',\n",
       " 'विपरित',\n",
       " 'विना',\n",
       " 'नविकरण',\n",
       " 'र',\n",
       " 'दर्ता',\n",
       " 'नभएका',\n",
       " 'धेरै',\n",
       " 'रहेकोे',\n",
       " 'पाईएको',\n",
       " 'हो',\n",
       " 'त्यस्तै',\n",
       " 'प्रशिक्षण',\n",
       " 'दिने',\n",
       " 'प्रशिक्षकको',\n",
       " 'सवारी',\n",
       " 'चालक',\n",
       " 'अनुमतिपत्र',\n",
       " 'नभएको',\n",
       " 'अनुभवी',\n",
       " 'नभएको',\n",
       " 'जिल्ला',\n",
       " 'ट्राफिक',\n",
       " 'कार्यालय',\n",
       " 'चितवनले',\n",
       " 'जनाएको',\n",
       " 'छ',\n",
       " 'सवारी',\n",
       " 'तथा',\n",
       " 'यातायात',\n",
       " 'व्यवस्था',\n",
       " 'ऐनअनुसार',\n",
       " 'यातायात',\n",
       " 'व्यवस्था',\n",
       " 'विभागमा',\n",
       " 'दर्ता',\n",
       " 'गरेर',\n",
       " 'मात्रै',\n",
       " 'सञ्चालन',\n",
       " 'गर्न',\n",
       " 'पाउने',\n",
       " 'कानुनी',\n",
       " 'प्रावधान',\n",
       " 'भए',\n",
       " 'पनि',\n",
       " 'यस्ता',\n",
       " 'ड्राइभिङ',\n",
       " 'सेन्टरहरु',\n",
       " 'विभागमा',\n",
       " 'दर्ता',\n",
       " 'नगरी',\n",
       " 'गैरकानुनी',\n",
       " 'रुपमा',\n",
       " 'सञ्चालन',\n",
       " 'भएको',\n",
       " 'पाइएको',\n",
       " 'छ',\n",
       " 'कतिपय',\n",
       " 'नविकरण',\n",
       " 'नै',\n",
       " 'गरेका',\n",
       " 'छैनन्',\n",
       " 'चितवनमा',\n",
       " 'रहेका',\n",
       " 'ड्राइभिङ',\n",
       " 'सेन्टरका',\n",
       " 'संञ्चालकहरुलाई',\n",
       " 'सवारी',\n",
       " 'दुर्घटना',\n",
       " 'र',\n",
       " 'सवारी',\n",
       " 'आवत',\n",
       " 'जावतमा',\n",
       " 'सहजता',\n",
       " 'पुर्याउने',\n",
       " 'उद्देश्यले',\n",
       " 'जिल्ला',\n",
       " 'ट्राफिक',\n",
       " 'कार्यालय',\n",
       " 'चितवनले',\n",
       " 'आयोजना',\n",
       " 'गरेको',\n",
       " 'सचेतना',\n",
       " 'कार्यक्रममा',\n",
       " 'सञ्चालकहरुले',\n",
       " 'नै',\n",
       " 'जिल्लाका',\n",
       " 'केहि',\n",
       " 'बाहेक',\n",
       " 'धेरैले',\n",
       " 'नविकरण',\n",
       " 'नगरेको',\n",
       " 'विर्ना',\n",
       " 'दर्ता',\n",
       " 'र',\n",
       " 'मापदण्ड',\n",
       " 'पुरा',\n",
       " 'नगरेको',\n",
       " 'बताएका',\n",
       " 'हुन्',\n",
       " 'चितवनमा',\n",
       " 'हाल',\n",
       " 'संञ्चालमा',\n",
       " 'रहेका',\n",
       " 'ड्राईभिङ्',\n",
       " 'सेन्टरहरु',\n",
       " 'मध्ये',\n",
       " 'वटाले',\n",
       " 'मात्र',\n",
       " 'ईजाजत',\n",
       " 'प्राप्त',\n",
       " 'गरेका',\n",
       " 'छन्',\n",
       " 'भने',\n",
       " 'लगभग',\n",
       " 'वटाले',\n",
       " 'विना',\n",
       " 'ईजाजत',\n",
       " 'संञ्चालन',\n",
       " 'गरीरहेका',\n",
       " 'छन्',\n",
       " 'खोज्दै',\n",
       " 'जाने',\n",
       " 'हो',\n",
       " 'भने',\n",
       " 'आधा',\n",
       " 'जिल्लामा',\n",
       " 'सञ्चालति',\n",
       " 'आधा',\n",
       " 'भन्द',\n",
       " 'बढी',\n",
       " 'मुस्किलले',\n",
       " 'दर्ता',\n",
       " 'भएका',\n",
       " 'होलान्',\n",
       " 'पूर्वी',\n",
       " 'चितवनको',\n",
       " 'रत्ननगरस्थित',\n",
       " 'एक',\n",
       " 'एक',\n",
       " 'ड्राइभिङ',\n",
       " 'सेन्टरका',\n",
       " 'सञ्चालकले',\n",
       " 'भने',\n",
       " 'भनौं',\n",
       " 'भने',\n",
       " 'साथीहरुको',\n",
       " 'विरोध',\n",
       " 'गरेजस्तो',\n",
       " 'हुन्छ',\n",
       " 'पूर्वी',\n",
       " 'चितवनमा',\n",
       " 'मैले',\n",
       " 'नै',\n",
       " 'जानेको',\n",
       " 'वटा',\n",
       " 'भन्दा',\n",
       " 'बढी',\n",
       " 'विना',\n",
       " 'दर्ता',\n",
       " 'छन्',\n",
       " 'भने',\n",
       " 'जिल्लाका',\n",
       " 'धेरै',\n",
       " 'नविकरण',\n",
       " 'गरेका',\n",
       " 'छैनन्',\n",
       " 'चितवनमा',\n",
       " 'दर्जन',\n",
       " 'बढी',\n",
       " 'ड्राइभिङ',\n",
       " 'सेन्टर',\n",
       " 'सञ्चालनमा',\n",
       " 'रहेको',\n",
       " 'भए',\n",
       " 'पनि',\n",
       " 'आधाभन्दा',\n",
       " 'बढी',\n",
       " 'दर्ता',\n",
       " 'नभई',\n",
       " 'चलिरहेको',\n",
       " 'उनको',\n",
       " 'दाबी',\n",
       " 'छ',\n",
       " 'यस्तै',\n",
       " 'भरतपुरमा',\n",
       " 'सञ्चालित',\n",
       " 'एक',\n",
       " 'ड्राइभिङ',\n",
       " 'सेन्टरका',\n",
       " 'सञ्चालकले',\n",
       " 'पनि',\n",
       " 'आनलाईन',\n",
       " 'खबरसगं',\n",
       " 'यस्तै',\n",
       " 'प्रतिक्रिया',\n",
       " 'दिए',\n",
       " 'के',\n",
       " 'गर्ने',\n",
       " 'आफ्नै',\n",
       " 'व्यवसायको',\n",
       " 'विरोध',\n",
       " 'गर्नु',\n",
       " 'उचित',\n",
       " 'नभए',\n",
       " 'कुरा',\n",
       " 'सही',\n",
       " 'हो',\n",
       " 'नामा',\n",
       " 'भनौ',\n",
       " 'भने',\n",
       " 'विरोधी',\n",
       " 'भनेर',\n",
       " 'व्यवसायी',\n",
       " 'साथीहरुबाटै',\n",
       " 'अप्ठारोमा',\n",
       " 'परिन्छ-उनले',\n",
       " 'भने',\n",
       " 'भरतपुरमा',\n",
       " 'नै',\n",
       " 'सञ्चालन',\n",
       " 'भएका',\n",
       " 'वटा',\n",
       " 'भन्दा',\n",
       " 'बढीको',\n",
       " 'आफ्नै',\n",
       " 'प्रशिक्षण',\n",
       " 'गर्ने',\n",
       " 'जग्गा',\n",
       " 'छैन्',\n",
       " 'सावारी',\n",
       " 'चालकलाई',\n",
       " 'प्रशिक्षण',\n",
       " 'अनिर्वाय',\n",
       " 'रुपमा',\n",
       " 'विघा',\n",
       " 'जग्गा',\n",
       " 'उपलब्ध',\n",
       " 'हुनुपर्ने',\n",
       " 'प्रावाधान',\n",
       " 'छ',\n",
       " 'जिल्ला',\n",
       " 'ट्राफिक',\n",
       " 'कार्यालय',\n",
       " 'चितवनका',\n",
       " 'प्रमुख',\n",
       " 'राजन',\n",
       " 'भेटवालले',\n",
       " 'भने',\n",
       " 'राम्रोसगं',\n",
       " 'प्रशिक्षण',\n",
       " 'नभएकै',\n",
       " 'कारण',\n",
       " 'दुर्घटना',\n",
       " 'बढेको',\n",
       " 'हो',\n",
       " 'जिल्लामा',\n",
       " 'सुवारी',\n",
       " 'दुर्घटना',\n",
       " 'कमी',\n",
       " 'गराउन',\n",
       " 'हामी',\n",
       " 'यसरी',\n",
       " 'ड्राइभिङ',\n",
       " 'सेन्टर',\n",
       " 'सञ्चालकलाई',\n",
       " 'लिएर',\n",
       " 'आएर',\n",
       " 'छलफल',\n",
       " 'गरि',\n",
       " 'समस्या',\n",
       " 'हल',\n",
       " 'गर्ने',\n",
       " 'प्रयास',\n",
       " 'गरेको',\n",
       " 'स्पष्ट',\n",
       " 'पारे',\n",
       " 'लर्निङ्ग',\n",
       " 'लाईसेन्सकोे',\n",
       " 'विमा',\n",
       " 'गर्न',\n",
       " 'माग',\n",
       " 'यसैविच',\n",
       " 'अन्र्तक्रियामा',\n",
       " 'सहभागी',\n",
       " 'चितवनका',\n",
       " 'ड्राईभिङ्',\n",
       " 'सेन्टरका',\n",
       " 'संञ्चालकहरु',\n",
       " 'लर्निङ्ग',\n",
       " 'लाईसेन्स',\n",
       " 'भएका',\n",
       " 'चालकहरुको',\n",
       " 'विमा',\n",
       " 'नहुदां',\n",
       " 'आफूहरु',\n",
       " 'समस्या',\n",
       " 'परेको',\n",
       " 'गुनासो',\n",
       " 'गरे',\n",
       " 'दक्ष',\n",
       " 'जनशक्ति',\n",
       " 'उत्पादन',\n",
       " 'गर्ने',\n",
       " 'भन्दै',\n",
       " 'उनीहरुले',\n",
       " 'सावारी',\n",
       " 'प्रशिक्षणका',\n",
       " 'लागि',\n",
       " 'हरेक',\n",
       " 'जिल्लामा',\n",
       " 'वटा',\n",
       " 'बढी',\n",
       " 'ठाउंहरु',\n",
       " 'उपलब्ध',\n",
       " 'गराउन',\n",
       " 'माग',\n",
       " 'पनि',\n",
       " 'गरे',\n",
       " 'पछिल्लो',\n",
       " 'समयमा',\n",
       " 'चालकहरुले',\n",
       " 'सवारी',\n",
       " 'चालक',\n",
       " 'अनुमति',\n",
       " 'पत्र',\n",
       " 'विना',\n",
       " 'सवारी',\n",
       " 'चलाउने',\n",
       " 'गरेकाले',\n",
       " 'वढि',\n",
       " 'मात्रामा',\n",
       " 'समस्या',\n",
       " 'आएको',\n",
       " 'ड्राईभिङ्',\n",
       " 'सेन्टरका',\n",
       " 'संञ्चालकहरुले',\n",
       " 'बताएका',\n",
       " 'छन्',\n",
       " 'जिल्ला',\n",
       " 'ट्राफिक',\n",
       " 'प्रहरी',\n",
       " 'कार्यालय',\n",
       " 'चितवनले',\n",
       " 'यहां',\n",
       " 'आयोजना',\n",
       " 'गरेको',\n",
       " 'अन्र्तक्रिया',\n",
       " 'बोल्दै',\n",
       " 'यस्तो',\n",
       " 'गुनासो',\n",
       " 'गरेका',\n",
       " 'हुन्',\n",
       " 'यहां',\n",
       " 'जग्गा',\n",
       " 'महगो',\n",
       " 'छराज्यले',\n",
       " 'विद्या',\n",
       " 'जग्गा',\n",
       " 'चाहिन्छ',\n",
       " 'भन्छ',\n",
       " 'जग्गा',\n",
       " 'पाहुननै',\n",
       " 'मुस्किल',\n",
       " 'छ',\n",
       " 'भने',\n",
       " 'पाए',\n",
       " 'पनि',\n",
       " 'महगो',\n",
       " 'छ',\n",
       " 'कुमार',\n",
       " 'ड्राईभिङ्',\n",
       " 'सेन्टरका',\n",
       " 'संञ्चालक',\n",
       " 'राजाराम',\n",
       " 'परियारले',\n",
       " 'गुनासो',\n",
       " 'पाखे',\n",
       " 'राज्यले',\n",
       " 'पनि',\n",
       " 'हामीलाई',\n",
       " 'सुविधा',\n",
       " 'दिनुपर्यो',\n",
       " 'नि',\n",
       " 'चितवनमा',\n",
       " 'हुने',\n",
       " 'गरेका',\n",
       " 'सवारी',\n",
       " 'दुर्घटनलाई',\n",
       " 'मध्ये',\n",
       " 'नजर',\n",
       " 'गर्दै',\n",
       " 'कार्यालयले',\n",
       " 'विभिन्न',\n",
       " 'क्षेत्रमा',\n",
       " 'रहेका',\n",
       " 'व्याक्तिहरुलाई',\n",
       " 'सचेतना',\n",
       " 'गराउने',\n",
       " 'क्रममा',\n",
       " 'संञ्चालकहरुलाई',\n",
       " 'पनि',\n",
       " 'सचेत',\n",
       " 'गराएको',\n",
       " 'कार्यक्रममा',\n",
       " 'जिल्ला',\n",
       " 'ट्राफिक',\n",
       " 'प्रहरी',\n",
       " 'कार्यालय',\n",
       " 'चितवनका',\n",
       " 'प्रमुख',\n",
       " 'राजन',\n",
       " 'भेटुवालले',\n",
       " 'जानकारी',\n",
       " 'दिए',\n",
       " 'विना',\n",
       " 'ईजाजत',\n",
       " 'संञ्चालनमा',\n",
       " 'आएका',\n",
       " 'सेन्टरहरुलाई',\n",
       " 'जिल्ला',\n",
       " 'ट्राफिक',\n",
       " 'कार्यालय',\n",
       " 'चितवनले',\n",
       " 'छिटो',\n",
       " 'भन्दा',\n",
       " 'छिटो',\n",
       " 'ईजाजत',\n",
       " 'लिन',\n",
       " 'आग्रह',\n",
       " 'समेत',\n",
       " 'गरे',\n",
       " 'सवारी',\n",
       " 'तथा',\n",
       " 'यातायात',\n",
       " 'व्यवस्था',\n",
       " 'ऐनको',\n",
       " 'दफा',\n",
       " 'मा',\n",
       " 'सवारी',\n",
       " 'प्रशिक्षण',\n",
       " 'केन्द्र',\n",
       " 'मर्मत',\n",
       " 'केन्द्र',\n",
       " 'तथा',\n",
       " 'सबै',\n",
       " 'किसिमको',\n",
       " 'सवारीसाधनको',\n",
       " 'बढी',\n",
       " 'निर्माण',\n",
       " 'गर्न',\n",
       " 'चाहने',\n",
       " 'व्यक्ति',\n",
       " 'र्फम',\n",
       " 'कम्पनी',\n",
       " 'वा',\n",
       " 'संस्थाले',\n",
       " 'विभागमा',\n",
       " 'दर्ता',\n",
       " 'गर्नुपर्ने',\n",
       " 'उल्लेख',\n",
       " 'छ',\n",
       " 'तर',\n",
       " 'विभागका',\n",
       " 'निर्देशक',\n",
       " 'एवम्',\n",
       " 'प्रवक्ता',\n",
       " 'वसन्त',\n",
       " 'अधिकारीले',\n",
       " 'भने',\n",
       " 'सानो',\n",
       " 'तथा',\n",
       " 'घरेलु',\n",
       " 'उद्योग',\n",
       " 'वा',\n",
       " 'कम्पनी',\n",
       " 'रजिष्ट्रारको',\n",
       " 'कम्पनीमा',\n",
       " 'दर्ता',\n",
       " 'गरी',\n",
       " 'प्यान',\n",
       " 'नम्बर',\n",
       " 'लिएर',\n",
       " 'विभागमा',\n",
       " 'दर्ता',\n",
       " 'गरेपश्चात्',\n",
       " 'मात्रै',\n",
       " 'यस्ता',\n",
       " 'प्रशिक्षण',\n",
       " 'केनद्र',\n",
       " 'सञ्चालन',\n",
       " 'गर्न',\n",
       " 'योग्य',\n",
       " 'हुने',\n",
       " 'बताए',\n",
       " 'विभागका',\n",
       " 'अनुसार',\n",
       " 'देशभर',\n",
       " 'सवारी',\n",
       " 'मर्मत',\n",
       " 'केन्द्र',\n",
       " 'तथा',\n",
       " 'प्रशिक्षण',\n",
       " 'केन्द्र',\n",
       " 'गरी',\n",
       " 'सयको',\n",
       " 'हाराहारीमा',\n",
       " 'सञ्चालित',\n",
       " 'छन्']"
      ]
     },
     "execution_count": 19,
     "metadata": {},
     "output_type": "execute_result"
    }
   ],
   "source": [
    "ex = trainds[0]\n",
    "trainds.fields.items()\n",
    "# ex.Sentiment\n",
    "# ex.SentimentText"
   ]
  },
  {
   "cell_type": "code",
   "execution_count": null,
   "metadata": {},
   "outputs": [],
   "source": [
    "# ex = valds[0]\n",
    "# ex.Sentiment"
   ]
  },
  {
   "cell_type": "markdown",
   "metadata": {},
   "source": [
    "## 3. Load pretrained word vectors and building vocabulary"
   ]
  },
  {
   "cell_type": "code",
   "execution_count": null,
   "metadata": {},
   "outputs": [
    {
     "name": "stdout",
     "output_type": "stream",
     "text": [
      "CPU times: user 136 ms, sys: 24 ms, total: 160 ms\n",
      "Wall time: 161 ms\n"
     ]
    }
   ],
   "source": [
    "%%time\n",
    "# vec = vocab.Vectors('glove.twitter.27B.100d.txt', './data/glove_embedding/')\n",
    "vec = vocab.Vectors('./data/large_nep2vec.txt')"
   ]
  },
  {
   "cell_type": "code",
   "execution_count": null,
   "metadata": {},
   "outputs": [
    {
     "name": "stdout",
     "output_type": "stream",
     "text": [
      "CPU times: user 2.5 s, sys: 0 ns, total: 2.5 s\n",
      "Wall time: 2.49 s\n"
     ]
    }
   ],
   "source": [
    "%%time\n",
    "txt_field.build_vocab(trainds, valds, max_size=100000, vectors=vec)\n",
    "label_field.build_vocab(trainds)"
   ]
  },
  {
   "cell_type": "code",
   "execution_count": null,
   "metadata": {},
   "outputs": [
    {
     "data": {
      "text/plain": [
       "torch.Size([100002, 100])"
      ]
     },
     "execution_count": 23,
     "metadata": {},
     "output_type": "execute_result"
    }
   ],
   "source": [
    "txt_field.vocab.vectors.shape"
   ]
  },
  {
   "cell_type": "code",
   "execution_count": null,
   "metadata": {},
   "outputs": [
    {
     "data": {
      "text/plain": [
       "tensor([-0.3896,  1.8487, -0.0657,  2.0903,  0.4955, -0.6503, -2.4989,\n",
       "        -1.6274, -1.0375,  2.6434, -0.8152, -0.2311, -1.8350,  2.2657,\n",
       "         1.6724,  0.2105, -0.0679,  0.1389,  1.7299,  1.6670,  2.4800,\n",
       "        -1.7672,  0.3998, -1.1306,  2.3462,  1.5662,  0.6138, -2.6506,\n",
       "        -2.4233, -2.7957, -1.5976,  2.4225, -2.1781, -0.1329,  2.0305,\n",
       "         0.4357,  0.8959,  0.2567,  2.7800,  1.6513,  1.5992,  0.5938,\n",
       "         1.6162, -1.7877,  1.6819, -0.0324, -1.5037, -3.1891,  0.8827,\n",
       "        -0.2825, -0.7122,  1.1246,  1.4272,  0.8021, -4.1194,  1.4679,\n",
       "        -2.7505,  1.1685,  3.3379, -0.6846,  1.1243,  2.1203, -1.1586,\n",
       "        -3.2750, -0.9348,  3.7749,  3.0786, -1.0205,  2.5531, -0.5501,\n",
       "        -1.1917, -0.0792, -0.7715,  0.3274,  2.7693,  3.8868,  1.0523,\n",
       "        -1.4871,  0.0718, -0.2615, -0.7815,  1.9536,  0.1851,  0.4665,\n",
       "         4.1067,  1.0190, -1.7467,  1.5418, -1.7004, -1.5643, -1.1541,\n",
       "         0.6280, -0.4386,  0.9448,  2.8460,  1.9715, -1.5069, -2.0099,\n",
       "         0.2965,  1.1944])"
      ]
     },
     "execution_count": 24,
     "metadata": {},
     "output_type": "execute_result"
    }
   ],
   "source": [
    "txt_field.vocab.vectors[txt_field.vocab.stoi['म']]"
   ]
  },
  {
   "cell_type": "markdown",
   "metadata": {},
   "source": [
    "## 4. Loading the data in batches"
   ]
  },
  {
   "cell_type": "code",
   "execution_count": null,
   "metadata": {},
   "outputs": [],
   "source": [
    "traindl, valdl = data.BucketIterator.splits(datasets=(trainds, valds), \n",
    "                                            batch_sizes=(3,3), \n",
    "                                            sort_key=lambda x: len(x.SentimentText), \n",
    "                                            device=None, \n",
    "                                            sort_within_batch=True, \n",
    "                                            repeat=False)"
   ]
  },
  {
   "cell_type": "code",
   "execution_count": null,
   "metadata": {},
   "outputs": [
    {
     "data": {
      "text/plain": [
       "(2825, 707)"
      ]
     },
     "execution_count": 26,
     "metadata": {},
     "output_type": "execute_result"
    }
   ],
   "source": [
    "len(traindl), len(valdl)"
   ]
  },
  {
   "cell_type": "code",
   "execution_count": null,
   "metadata": {},
   "outputs": [
    {
     "data": {
      "text/plain": [
       "torchtext.data.batch.Batch"
      ]
     },
     "execution_count": 27,
     "metadata": {},
     "output_type": "execute_result"
    }
   ],
   "source": [
    "batch = next(iter(traindl))\n",
    "type(batch)"
   ]
  },
  {
   "cell_type": "code",
   "execution_count": null,
   "metadata": {},
   "outputs": [
    {
     "data": {
      "text/plain": [
       "tensor([ 11,  11,  10])"
      ]
     },
     "execution_count": 28,
     "metadata": {},
     "output_type": "execute_result"
    }
   ],
   "source": [
    "batch.Sentiment"
   ]
  },
  {
   "cell_type": "markdown",
   "metadata": {},
   "source": [
    "##### returns word indices and lengths"
   ]
  },
  {
   "cell_type": "code",
   "execution_count": null,
   "metadata": {},
   "outputs": [
    {
     "data": {
      "text/plain": [
       "(tensor([[    94,  22469,    473],\n",
       "         [   310,   3066,     56],\n",
       "         [     2,   4988,  37241],\n",
       "         ...,\n",
       "         [    22,      1,      1],\n",
       "         [  1201,      1,      1],\n",
       "         [     0,      1,      1]]), tensor([ 1704,  1609,  1539]))"
      ]
     },
     "execution_count": 29,
     "metadata": {},
     "output_type": "execute_result"
    }
   ],
   "source": [
    "batch.SentimentText"
   ]
  },
  {
   "cell_type": "code",
   "execution_count": null,
   "metadata": {},
   "outputs": [
    {
     "data": {
      "text/plain": [
       "{'Sentiment': <torchtext.data.field.Field at 0x3ffcf48ffb38>,\n",
       " 'SentimentText': <torchtext.data.field.Field at 0x3ffcf48ffba8>}"
      ]
     },
     "execution_count": 30,
     "metadata": {},
     "output_type": "execute_result"
    }
   ],
   "source": [
    "batch.dataset.fields"
   ]
  },
  {
   "cell_type": "code",
   "execution_count": null,
   "metadata": {},
   "outputs": [
    {
     "data": {
      "text/plain": [
       "'<pad>'"
      ]
     },
     "execution_count": 31,
     "metadata": {},
     "output_type": "execute_result"
    }
   ],
   "source": [
    "txt_field.vocab.itos[1]"
   ]
  },
  {
   "cell_type": "markdown",
   "metadata": {},
   "source": [
    "##### convert index to string"
   ]
  },
  {
   "cell_type": "markdown",
   "metadata": {},
   "source": [
    "Function to convert batch to text"
   ]
  },
  {
   "cell_type": "code",
   "execution_count": null,
   "metadata": {},
   "outputs": [],
   "source": [
    "def idxtosent(batch, idx):\n",
    "    return ' '.join([txt_field.vocab.itos[i] for i in batch.SentimentText[0][:,idx].cpu().data.numpy()])"
   ]
  },
  {
   "cell_type": "code",
   "execution_count": null,
   "metadata": {},
   "outputs": [
    {
     "data": {
      "text/plain": [
       "'एउटा भनाइ छ मानिसहरु पहिलो नजरमै प्रेममा पर्ने गर्छन् र उनीहरुको माया अनन्तकालसम्म रहिरहन्छ यद्यपि यो मायाले न त घर बनाउन मिल्छ न भविश्य नै बनाउन सकिन्छ वा भनौं कसैलाई रोगबाट नै फर्काउन सकिन्छ मेरो विचार यी महिला हुन् जसले सम्बन्ध बनाउँछन् तपाईहरुलाई थाहा छ म पुरुषहरुलाई किन परामर्श दिन्न किनकि ती पुरुषहरुले जहिल्यै मलाई महिला गलत हुन्छन् भन्ने प्रमाणित गर्ने कोशिश गर्छन् उनीहरुले एउटा <unk> अपेक्षा गर्ने पनि त्यति नै हो मेरो विचारमा पुरुषहरु महिलामाथि प्रतिक्रिया मात्र जनाउँछन् उनीहरुले त्यही किसिमको प्रतिक्रिया <unk> भने देखाउँदैनन् त्यसैले मैले <unk> काम गर्नुको एउटैमात्र कारण के हो भने म <unk> विश्वास गर्छु कि जब महिलाहरु परिवर्तन हुन्छन् त्यतिबेला पुरुषसितको <unk> सम्बन्ध पनि परिवर्तन हुन्छ यो लेखमा तपाईहरुले महिलाका सात साधारण त्रुटीहरु थाहा पाउन सक्नुहुन्छ जुन मैले सामना गर्दै आएकी छु तपाई भाषण धेरै <unk> बनाउने क्रममा हुने मुख्य गल्ती भनेको महिलाहरुले गर्ने वादविवाद नै हो यसको मतलव मैले नचाहिँदो गफ भन्न खोजेको हैन बरु म किन निराश छु भन्नुको साटो त्यसलाई तन्काएर म भन्छु यो कसरी गर्ने मलाई थाहा छ तिमीलाई थाहा छैन तिमी केवल भन्न <unk> र त्यही कुरामा भाषण दिन सुरु हुन्छ उदाहरणका लागि तपाई कतै गइरहनु भएको छ र यात्रा अवधिभर तपाईका श्रीमान् उक्त कारबाट बाहिर निस्कन नसक्ने अवस्थामा हुनुहन्छ त्यतिबेला तपाई यत्ति सानो सानो कुरामा वहस गरेर उनलाई तनाव दिइरहनुभएको हुन्छ जुन आवश्यक नहुन पनि सक्छ त्यसपछि तपाईहरु घर <unk> खाना खानुहुन्छ सुत्नुहुन्छ र भोलि विहान फेरि सोही प्रकृया क्रमशः दोहोरिन्छ तपाई एउटाबाट अर्को चरम अवस्थामा <unk> अर्को गल्ती गर्छन् उनीहरु म सधैंका उपलब्ध छु भन्ने अवस्थाबाट विल्कुलै उपलब्ध छैन भन्ने अवस्थाको बीच जहिलेपनि <unk> हुन्छन् यसमा जान्नुपर्ने मुख्य दुई कुरा छन् ती हुन्ः जब एउटी महिला आफ्नो पुरुषसितको <unk> लागि उपलब्ध हुन्छिन् त्यतिबेला पुरुषले उनीसित जस्तोसुकै व्यवहार गरेको होस् त्यसको समेत वास्ता नगरी उनले त्यसको मूल्य आफ्नै नजरमा तथा ती पुरुषको नजरमा <unk> हुन्छिन् जब एउटी महिलाले परिवारमा कडा स्वभाव भएकी महिला अथवा आमाको भूमिका निर्वाह गर्छिन् त्यतिबेला उनले शारीरिक आर्कषण तथा सौन्दर्यता गुमाउन पुग्छिन् त्यो किन हुन्छ भने एउटा पुरुषको दिमागमा आमा र सेक्स दुई अलग कुरा हुन् एउटी केटी र आमाको <unk> नै महिलाको उत्पत्ति हुन्छ यी दुई तत्व मिलेर नै शान्त र <unk> महिलाको निर्माण हुन्छ जसलाई लचिलो कसरी हुने भनेर राम्ररी थाहा छ यस अर्थमा आमा लचिलो हुनै सक्दिनन् किनकि उनी सधै नै चिन्तित मुद्रामा हुन्छिन् र उनलाई जहिलेपनि आफु सही नै हुनैपर्छ अर्कोतर्फ एउटी केटी लचिलो हुन <unk> किनकि उनी मूर्ख हुन्छिन् जब एउटी महिलाले आफ्नो भावना बुझ्न थाल्छिन् तब उनले शान्त हुनुको आनन्द महसुस गर्छिन् र त्यो अवस्थामा कसरी पुग्ने भन्नेबारे थाहा पाउँछिन् महिलाहरु सँगै हिँड्न केही गर्न तथा विभिन्न कुरालाई सही बनाउन पुरुषकै प्रतिक्षा गर्छन् तर त्यसले मात्रै सबै कुरा ठीक हुँदैन किनभने माया पाउनु आफैंमा आधारभूत आवश्यकता हो हामीले यो कुरा स्वतन्त्ररुपमा मात्र अनुभूति गर्न सक्छौं यदि महिलाले आˆनो आवश्यकता स्वतन्त्ररुपमा परिपूर्ति गर्न <unk> भने निराशा बढेर मात्र जान्छ यो कुरा उसले गरेको काम सही छ भन्ने महसुस गर्दागर्दै र <unk> भनेजस्तै पुरुषले व्यवहार देखाउँदा देखाउँदै पनि लाग्न सक्छ त्यतिबेला उसले केही महसुस गर्न नसक्दा यसले सम्बन्धलाई अन्त्यमा पुर्याउँछ तपाई बाघलाई चप्पलले <unk> महिलाको एउटै गुनासो हुन्छ पुरुषलाई उनीहरुको आशामा खरो उत्रन सकेनन् त्यसैले उनीहरु प्राय ः एउटै कुरा दोहोर्याउने गर्छन् पुरुषहरु अल्छी हुन्छन् उनीहरुको अल्छीपना कहिले सकिएला तिमी कहिल्यै पैसा कमाउन <unk> तिमी कहिले उचित निर्णय लिन्छौ इत्यादि इत्यादि यस्ता व्यवहार देखाएर उनीसामु जाँदा उसले तपाईको श्रीमानलाई पर बनाउने काम मात्रै गर्छ जो झुक्किएर पनि तपाईले देखाएको मार्गमा हिँड्न चाहँदैन <unk> मिल्ने एउटा भनाइ पनि छ एउटा बाघलाई तपाई हरेक दिन चप्पलले <unk> हेर्नोस् अनि हामी उसलाई ऊ बाघ हैन र उसले केही गर्न सक्दैन भनी हेरौं त्यतिबेला उक्त बाघले कस्तो प्रतिकृया <unk> म महिलाहरुलाई यस्ता वाक्यांश प्रयोग गर्न सुझाव दिन्छु तिमीलाई थाहा छ म कत्तिको दुःखी महसुस गर्छु अथवा म दुःखी छु किनभने मैले सोचेकी थिएँ जब मैले तिमीलाई भनें कि यो कुरा मेरा लागि कति महत्वपूर्ण छ मैले सोचें तिमीले कुरा बुझ्नेछौ यति गर्नाले एउटी महिलाले आˆनो भावना पुरुषसित <unk> हुन्छिन् यो धेरै जरुरी छ किनकि महिलाहरुले जहिले पनि पुरुष जिम्मेवार होस् भन्ने अपेक्षा राखेका हुन्छन् यद्यपि पुरुषहरु आरामपि्रय प्राणी हुन् जो व्यक्तिगत रुपमा <unk> हुन कदापि चाहँदैनन् भविश्यमा महिलाहरुको निराशाको कारण बन्नु भन्दा अहिले नै महिलाहरुलाई सुरक्षित महसुस गराउनु उनीहरुका लागि सजिलो पनि छ खुशीको पहिचान गर्न <unk> यस क्षेत्रमा काम गरेको झण्डै वर्ष भयो र पनि लामो समयदेखि मैले बुझन् नसकेको कुरा भनेको उमेर लिङ्ग जाति <unk> परिपक्वता लगायतका विभिन्न कुरामा महिलाहरु जति भिन्न भए पनि उनीहरुले एकै किसमको गल्ती गरिरहेका हुन्छन् बरु मैले के बुझें भने अभिभावक बढी जिम्मेवार हुने गरेका छन् उनीहरुले आˆना सन्तानलाई खुशीको अनुभव गर्न <unk> ता कि भविश्यमा उनीहरुले आफूलाई चिन्न सकुन् मलाई कसरी कसरी खुशी हुने भनेर कसैले सिकाएको हैन जब एउटी महिला जीवनमा अघि बढ्छिन् त्यतिबेलासम्म उसलाई खुशी के हो भन्ने नै महसुुस हुँदैन बरु उसलाई पुरस्कृत हुदाँ राम्रो अंक ल्याउँदा र सबैसित राम्रो व्यवहार गर्दा थोरै थोरै रुपमा खुशी महसुस भइरहेको हुन्छ त्यही क्रममा उसको भेट एउटा पुरुषसित हुन्छ र उसले म नै खुशी छु भन्ना साथ ती पुरुषलाई उनी घरसम्म <unk> त्यसपछि वर्ष वित्छ र पनि उसले खुशीको अनभव गर्दिनन् त्यसैले प्रत्येक अभिभावकको पहिलो काम भनेकै आˆना सन्तानलाई खुशी के हो भनेर बुझाउनु हो महिलाले आफूभित्र शान्त प्रकृतिको आनन्दको अनुभूति गर्न सकेमात्रै पनि उसले एउटा पत्थरले दुईवटा चराको शिकार एकैपटक गर्न <unk> आफ्नो सन्तानलाई माया <unk> वर्षकी छोरीलाई लिएर मेरो एउटा अनुभव छ जब मेरी छोरी आफ्नो <unk> हुन्छिन् त्यतिबेला उनले आˆनो माया देखाइरहेकी हुन्छिन् यो गुण प्रकृतिले नै छोरीहरुलाई प्रदान गरेको छ यदि यही व्यवहार एउटा पुरुषलाई <unk> महिलाले देखाउने हो भने उनीहरुबीच कुनै भिन्नता रहँदैन तर यही व्यवहार हामी <unk> पुगेर देखाए के होला यो किन हुन्छ भने एउटी महिलाले नयाँ सम्बन्धको सुरुवात गर्दा उसले उक्त व्यक्तिप्रति प्रतिक्रिया <unk> धेरै समय खर्चिनुपर्छ त्यही महिला सानो हुँदा उसले सबै कुरा <unk> गरेकी हुन्छिन् फेरि उनले त्यही कुरा किन <unk> कारण एउटै छ खतरा अघिल्लो सम्बन्धको अनुभवका कारण जब एउटी महिला तीनपटकसम्म तिरस्कृत हुन्छिन् तब उनी सोच्न थाल्छिन् शायद उसलाई यो मन नपर्न सक्छ शायद उसले मलाई छोडेर जान्छ जब म उसलाई बेस्सरी <unk> र मीठो कुरा गर्छु तब ऊ मलाई नहेरी जानै सक्तैन यही कुरा बालबालिकामा पनि लागु हुन्छ यहाँ सबैभन्दा बढी ध्यान दिनुपर्ने कुरा भनेको उनीहरुको भावनालाई कदर गर्नु कत्तिको जरुरी छ यदि <unk> छोरी रोइरहेकी छिन् भने पनि हामीले उनलाई नचाहिँदो कुरामा रोइरहेको भनेर कहिल्यै पनि <unk> बरु त्यो ठाउँमा तपाई हुनुभएको भए तपाई पनि <unk> भन्नु उपयुक्त हुन्छ सहानुभूति जगाउन आवश्यक हुन्छ यति गर्नु भनेको उनीहरुले गरेको काम गलत हैन भनेर बताउनु पनि हो यतिबेला जे जस्तो परिस्थिति आएपनि तिम्रो लागि म छु भन्ने कुरा उसलाई बताउनु निकै आवश्यक हुन्छ त्यस्तै यतिबेला भाषण दिनबाट आफुलाई नियन्त्रित गर्न पनि सक्नुपर्छ धेरै मानिसले भनिरहेका हुन्छन् जे भए पनि म तिम्रो साथमा छु तर सुन म जब <unk> थिएँ र फेरि सुरु हुन्छ उही कुरा तपाई उसलाई बोल्नै <unk> बोल्न सिक्नैपर्छ जब उनीहरु बोल्दैनन् तब महिलाले अनावश्यक महसुस गर्न थाल्छन् यहाँ समस्या के हो भने पुरुष एक्लै योजना बनाउँछन् र त्यसबारे महिलासित छलफल गर्दैनन् यदि उसले म आज काम गर्न गइरहेको छु ता कि अबको तीन वर्षमा हामीले घर किन्न सक्छौं भन्यो भने महिलाले पनि उसलाई खुशी भएर साथ दिन्छिन् एउटा पुरुषको नजर यदि ऊ महिलासित बस्छ उसले बनाएको सुप <unk> भने त्यसको अर्थ हो उसले ती महिलालाई माया गर्छ तर महिलाले यो कुरा बुझ्दैनन् उनीहरु प्रश्न गर्छन् एउटा पुरुषले मलाई हेर्दैन घर ढिला आउँछ अर्कै कोठामा गएर सुत्छ भने उसको त्यो व्यवहार देखेर मैले के बुझ्ने जब म यही प्रश्न <unk> राख्छु तब उनीहरु भन्ने गर्छन् म उसकै साथमा त <unk> छैन र आ-आˆनो ठाउँमा सबैको कुरा सही छ कुरा यत्ति हो कि तपाईले महिलासित कुरा गर्नुपर्यो तपाईले <unk> थकित छु तिमी मेरा लागि यो यो खानेकुरा तयार पारिदिन सक्छौ त्यसपछि हेर्नोस् यति कुराले मात्रै पनि उनको मुहारमा कत्ति खुशी ल्याउँछ तपाई आफ्नो श्रीमान्लाई आफुसित बोल्न जरुरी छ भनेर कसरी बताउनुहुन्छ यहाँ कुरा के हो भने महिलाहरु जे कुरा पनि सुक्ष्म तरिकाले नियाल्न गर्छन् त्यसैका आधारमा उनीहरुले धारणा बनाउने गर्छन् जब कि पुरुषहरुले भने त्यस्ता सानो कुरामा ध्यान नदिई ठूलो परिवर्तनलाई मात्र याद गर्छन् जब एउटी महिलाले केहीे गर्छिन् र पुरुषलाई कस्तो लाग्यो भनेर सोध्छिन् तब उसको दिमागमा बिस्फोट सुरु हुन्छ ऊ सोच्न थाल्छ यदि उसले सही कुरा भनेन भने त्यहाँ अर्को विवाद सुरु हुन्छ यो समस्या हल गर्ने मसित राम्रो उपाय छ जब तपाईका श्रीमानले सर्टमा आइरन लगाउन भन्नुहुन्छ वा चिया बनाउन अर्हाउनुहुन्छ त्यतिबेला तपाई यतिमात्र भन्नुहोस् मलाई तीन शब्दको यस्तो कुरा भन जुन मेरा लागि खास होस् अनि बल्ल म तिम्रो सर्ट कहाँ छ भन्छु अथवा मलाई पहिले पाँच अक्षरको एउटा मीठो वाक्य भन अनि म तिमीलाई संसारकै मिठो चिया <unk> आफ्ना श्रीमान्लाई यसरी बोल्न बाध्य बनाउन तपाईले पनि केही समय त <unk> पर्छ र त्यसका लागि केही कुरा सिक्नैपर्छ त्यसपछि हेर्नोस् तपाईले यत्ति भनेको केही क्षण पश्चात्त नै तपाईका श्रीमान् आˆनै हिसाबले काम गर्न <unk> तपाई आफैंमा भएको सुन्दरताको पहिचान गर्न <unk> एउटी महिला बाहिर <unk> अगाडि घण्टौंसम्म ऐना अगाडि बस्ने गर्छिन् ता कि बाहिर हिँड्ने सर्वसाधारणको अगाडि उनी थोरै भए पनि सुन्दर देखिउन् जबकि उनलाई आफ्नै घरमा श्रीमानको अगाडि सुन्दर देखिने फुर्सद हँुदैन यस्तो अक्सर हुन्छ किनकि महिलाहरु अधिकांश महिला सर्वसाधारणको प्रतिक्रियालाई लिएर चिन्तित हुने गर्छन् उनका श्रीमान् पहिले नै उनका साथमा छन् तैपनि उनी आˆनो पतिबाट प्रशंसा पाउनमा भन्दा अरुले उनको श्रीमान्लाई तपाईको श्रीमती राम्री छ भनेर प्रशंशा गरोस् भन्ने कुरामा अधिक समय व्यतीत गर्छन् यो व्यवहार कुनै पनि हालतमा उचित छैन र यसलाई जरैदेखि हटाउनुपर्छ मेरो विचारमा कुनै पनि महिला सुन्दर हुनु भनेको उसले दिनको अन्त्यसम्म गर्ने काम नै हो उसको उमेर कति भयो भन्ने कुराले कतै महत्व राख्दैन उसको कामको प्रकृति के हो भन्ने कुरा जान्न पनि आवश्यक छैन यति भन्दैमा तपाईलाई यतिकै जान दिने भन्ने कुरा पनि आउँदैन र त्यस्तो बहाना गर्नु पनि उचित मानिँदैन सुखी र खुशी रहने सरल उपायः सोच आज म आफुले आफैलाई के खुशी दिन सक्छु दैनिक झण्डै चार किलोमिटर पैदल हिँड्ने गर्नोस् त्यतिबेला तपाई यो नसोच्नुस् कि म अहिले यति हिँड्छु र पछि त्यति हिँड्छु तपाईले यो यात्रा एकैपटकमा पूरा गर्नुपर्छ प्रशस्त मात्रामा पानी <unk> आफुभित्र रहेको सम्पूर्ण <unk> <unk> सोच्नुस् म जतिसक्दो धेरै आफुले आफैंलाई अनुमोदन गर्छु <unk> तपाईलाई मन लागेको कुरा मात्र गर्नुस् त्यसले दिनको सुरुवात राम्रो हुन्छ यहाँ <unk> लागि अर्को एउटा राम्रो सुझाव छ हप्तामा एक दिन केही नगर्नुस् यसको मतलब केही पनि हैन ओछ्यान मिलाउने पनि हैन बरु <unk> सेवन गर्ने र जीम जाने जीवनमा खुशी रहन पनि यस्ता कुराले धेरै महत्व राख्दछ अरु <unk> म पनि <unk> बुझ्न तिब्बत पुगेकी थिएँ त्यहाँ मैले खुशी त पाइँन बरु त्यहाँ चिसो धेरै थियो र म भोकै भएर डराएकी पनि थिएँ म त्यहाँ तीन साताका लागि गएकी थिएँ एक साता <unk>'"
      ]
     },
     "execution_count": 33,
     "metadata": {},
     "output_type": "execute_result"
    }
   ],
   "source": [
    "idxtosent(batch,0)"
   ]
  },
  {
   "cell_type": "code",
   "execution_count": null,
   "metadata": {},
   "outputs": [],
   "source": [
    "val_batch = next(iter(valdl))"
   ]
  },
  {
   "cell_type": "markdown",
   "metadata": {},
   "source": [
    "##### Note that BucketIterator returns a Batch object instead of text index and labels directly and Batch object is not iterable unlike pytorch Dataloader. A single Batch object contains the data of one batch and the text and labels can be accessed via column names. \n",
    "##### This is one of the small hiccups in torchtext. But this can be easily overcome in two ways. Either write some extra code in the training loop for getting the data out of Batch object or write a iterable wrapper around Batch Object that returns the desired data. I will take the second approach as this is much cleaner."
   ]
  },
  {
   "cell_type": "code",
   "execution_count": null,
   "metadata": {},
   "outputs": [],
   "source": [
    "class BatchGenerator:\n",
    "    def __init__(self, dl, x_field, y_field):\n",
    "        self.dl, self.x_field, self.y_field = dl, x_field, y_field\n",
    "        \n",
    "    def __len__(self):\n",
    "        return len(self.dl)\n",
    "    \n",
    "    def __iter__(self):\n",
    "        for batch in self.dl:\n",
    "            X = getattr(batch, self.x_field)\n",
    "            y = getattr(batch, self.y_field)\n",
    "            yield (X,y)"
   ]
  },
  {
   "cell_type": "code",
   "execution_count": null,
   "metadata": {},
   "outputs": [],
   "source": [
    "train_batch_it = BatchGenerator(traindl, 'SentimentText', 'Sentiment')"
   ]
  },
  {
   "cell_type": "code",
   "execution_count": null,
   "metadata": {},
   "outputs": [],
   "source": []
  },
  {
   "cell_type": "markdown",
   "metadata": {},
   "source": [
    "## 5. Finally Model and training"
   ]
  },
  {
   "cell_type": "code",
   "execution_count": null,
   "metadata": {},
   "outputs": [],
   "source": [
    "vocab_size = len(txt_field.vocab)\n",
    "embedding_dim = 100\n",
    "n_hidden = 64\n",
    "n_out = len(classes)"
   ]
  },
  {
   "cell_type": "markdown",
   "metadata": {},
   "source": [
    "## Simple RNN module"
   ]
  },
  {
   "cell_type": "markdown",
   "metadata": {},
   "source": [
    "#### Simple GRU model"
   ]
  },
  {
   "cell_type": "code",
   "execution_count": null,
   "metadata": {},
   "outputs": [],
   "source": [
    "class SimpleGRU(nn.Module):\n",
    "    def __init__(self, vocab_size, embedding_dim, n_hidden, n_out, pretrained_vec, bidirectional=True):\n",
    "        super().__init__()\n",
    "        self.vocab_size,self.embedding_dim,self.n_hidden,self.n_out,self.bidirectional = vocab_size, embedding_dim, n_hidden, n_out, bidirectional\n",
    "        self.emb = nn.Embedding(self.vocab_size, self.embedding_dim)\n",
    "        self.emb.weight.data.copy_(pretrained_vec)\n",
    "        self.emb.weight.requires_grad = False\n",
    "        self.gru = nn.GRU(self.embedding_dim, self.n_hidden, bidirectional=bidirectional)\n",
    "        self.out = nn.Linear(self.n_hidden, self.n_out)\n",
    "        \n",
    "    def forward(self, seq, lengths):\n",
    "        bs = seq.size(1) # batch size\n",
    "        seq = seq.transpose(0,1)\n",
    "        self.h = self.init_hidden(bs) # initialize hidden state of GRU\n",
    "        embs = self.emb(seq)\n",
    "        embs = embs.transpose(0,1)\n",
    "        embs = pack_padded_sequence(embs, lengths) # unpad\n",
    "        gru_out, self.h = self.gru(embs, self.h) # gru returns hidden state of all timesteps as well as hidden state at last timestep\n",
    "        gru_out, lengths = pad_packed_sequence(gru_out) # pad the sequence to the max length in the batch\n",
    "        # since it is as classification problem, we will grab the last hidden state\n",
    "        outp = self.out(self.h[-1]) # self.h[-1] contains hidden state of last timestep\n",
    "#         return F.log_softmax(outp, dim=-1)\n",
    "        return F.log_softmax(outp)\n",
    "    \n",
    "    def init_hidden(self, batch_size): \n",
    "        if self.bidirectional:\n",
    "            return torch.zeros((2,batch_size,self.n_hidden)).to(device)\n",
    "        else:\n",
    "            return torch.zeros((1,batch_size,self.n_hidden)).to(device)"
   ]
  },
  {
   "cell_type": "code",
   "execution_count": null,
   "metadata": {},
   "outputs": [],
   "source": [
    "class SimpleRNN(nn.Module):\n",
    "    def __init__(self, vocab_size, embedding_dim, n_hidden, n_out, pretrained_vec, bidirectional=True):\n",
    "        super().__init__()\n",
    "        self.vocab_size,self.embedding_dim,self.n_hidden,self.n_out,self.bidirectional = vocab_size, embedding_dim, n_hidden, n_out, bidirectional\n",
    "        self.emb = nn.Embedding(self.vocab_size, self.embedding_dim)\n",
    "        self.emb.weight.data.copy_(pretrained_vec)\n",
    "        self.emb.weight.requires_grad = False\n",
    "        self.rnn = nn.RNN(self.embedding_dim, self.n_hidden, bidirectional=bidirectional)\n",
    "        self.out = nn.Linear(self.n_hidden, self.n_out)\n",
    "        \n",
    "    def forward(self, seq, lengths):\n",
    "        bs = seq.size(1) # batch size\n",
    "        seq = seq.transpose(0,1)\n",
    "        self.h = self.init_hidden(bs) # initialize hidden state of GRU\n",
    "        embs = self.emb(seq)\n",
    "        embs = embs.transpose(0,1)\n",
    "        embs = pack_padded_sequence(embs, lengths) # unpad\n",
    "        rnn_out, self.h = self.rnn(embs, self.h) # gru returns hidden state of all timesteps as well as hidden state at last timestep\n",
    "        rnn_out, lengths = pad_packed_sequence(rnn_out) # pad the sequence to the max length in the batch\n",
    "        # since it is as classification problem, we will grab the last hidden state\n",
    "        outp = self.out(self.h[-1]) # self.h[-1] contains hidden state of last timestep\n",
    "#         return F.log_softmax(outp, dim=-1)\n",
    "        return F.log_softmax(outp)\n",
    "    \n",
    "    def init_hidden(self, batch_size): \n",
    "        if self.bidirectional:\n",
    "            return torch.zeros((2,batch_size,self.n_hidden)).to(device)\n",
    "        else:\n",
    "            return torch.zeros((1,batch_size,self.n_hidden)).to(device)"
   ]
  },
  {
   "cell_type": "markdown",
   "metadata": {},
   "source": [
    "#### Concat Pooling model"
   ]
  },
  {
   "cell_type": "code",
   "execution_count": null,
   "metadata": {},
   "outputs": [],
   "source": [
    "class ConcatPoolingGRUAdaptive(nn.Module):\n",
    "    def __init__(self, vocab_size, embedding_dim, n_hidden, n_out, pretrained_vec, bidirectional=True):\n",
    "        super().__init__()\n",
    "        self.vocab_size = vocab_size\n",
    "        self.embedding_dim = embedding_dim\n",
    "        self.n_hidden = n_hidden\n",
    "        self.n_out = n_out\n",
    "        self.bidirectional = bidirectional\n",
    "        \n",
    "        self.emb = nn.Embedding(self.vocab_size, self.embedding_dim)\n",
    "        self.emb.weight.data.copy_(pretrained_vec)\n",
    "        self.emb.weight.requires_grad = False\n",
    "        self.gru = nn.GRU(self.embedding_dim, self.n_hidden, bidirectional=bidirectional)\n",
    "        if bidirectional:\n",
    "            self.out = nn.Linear(self.n_hidden*2*2, self.n_out)\n",
    "        else:\n",
    "            self.out = nn.Linear(self.n_hidden*2, self.n_out)\n",
    "        \n",
    "    def forward(self, seq, lengths):\n",
    "        bs = seq.size(1)\n",
    "        self.h = self.init_hidden(bs)\n",
    "        seq = seq.transpose(0,1)\n",
    "        embs = self.emb(seq)\n",
    "        embs = embs.transpose(0,1)\n",
    "        embs = pack_padded_sequence(embs, lengths)\n",
    "        gru_out, self.h = self.gru(embs, self.h)\n",
    "        gru_out, lengths = pad_packed_sequence(gru_out)        \n",
    "        \n",
    "        avg_pool = F.adaptive_avg_pool1d(gru_out.permute(1,2,0),1).view(bs,-1)\n",
    "        max_pool = F.adaptive_max_pool1d(gru_out.permute(1,2,0),1).view(bs,-1)        \n",
    "        outp = self.out(torch.cat([avg_pool,max_pool],dim=1))\n",
    "        return F.log_softmax(outp)\n",
    "    \n",
    "    def init_hidden(self, batch_size): \n",
    "        if self.bidirectional:\n",
    "            return torch.zeros((2,batch_size,self.n_hidden)).to(device)\n",
    "        else:\n",
    "            return torch.zeros((1,batch_size,self.n_hidden)).cuda().to(device)"
   ]
  },
  {
   "cell_type": "markdown",
   "metadata": {},
   "source": [
    "#### Training function"
   ]
  },
  {
   "cell_type": "code",
   "execution_count": null,
   "metadata": {},
   "outputs": [],
   "source": [
    "def fit(model, train_dl, val_dl, loss_fn, opt, epochs=3):\n",
    "    num_batch = len(train_dl)\n",
    "    for epoch in tnrange(epochs):      \n",
    "        y_true_train = list()\n",
    "        y_pred_train = list()\n",
    "        total_loss_train = 0          \n",
    "        \n",
    "        t = tqdm_notebook(iter(train_dl), leave=False, total=num_batch)\n",
    "        for (X,lengths),y in t:\n",
    "            t.set_description(f'Epoch {epoch}')\n",
    "            lengths = lengths.cpu().numpy()\n",
    "            \n",
    "            opt.zero_grad()\n",
    "            pred = model(X, lengths)\n",
    "            loss = loss_fn(pred, y)\n",
    "            loss.backward()\n",
    "            opt.step()\n",
    "            \n",
    "            t.set_postfix(loss=loss.item())\n",
    "            pred_idx = torch.max(pred, dim=1)[1]\n",
    "            \n",
    "            y_true_train += list(y.cpu().data.numpy())\n",
    "            y_pred_train += list(pred_idx.cpu().data.numpy())\n",
    "            total_loss_train += loss.item()\n",
    "            \n",
    "        train_acc = accuracy_score(y_true_train, y_pred_train)\n",
    "        train_loss = total_loss_train/len(train_dl)\n",
    "        \n",
    "        if val_dl:\n",
    "            y_true_val = list()\n",
    "            y_pred_val = list()\n",
    "            total_loss_val = 0\n",
    "            for (X,lengths),y in tqdm_notebook(val_dl, leave=False):\n",
    "                pred = model(X, lengths.cpu().numpy())\n",
    "                loss = loss_fn(pred, y)\n",
    "                pred_idx = torch.max(pred, 1)[1]\n",
    "                y_true_val += list(y.cpu().data.numpy())\n",
    "                y_pred_val += list(pred_idx.cpu().data.numpy())\n",
    "                total_loss_val += loss.item()\n",
    "            valacc = accuracy_score(y_true_val, y_pred_val)\n",
    "            valloss = total_loss_val/len(valdl)\n",
    "            print(f'Epoch {epoch}: train_loss: {train_loss:.4f} train_acc: {train_acc:.4f} | val_loss: {valloss:.4f} val_acc: {valacc:.4f}')\n",
    "        else:\n",
    "            print(f'Epoch {epoch}: train_loss: {train_loss:.4f} train_acc: {train_acc:.4f}')"
   ]
  },
  {
   "cell_type": "markdown",
   "metadata": {},
   "source": [
    "##### Dataloader"
   ]
  },
  {
   "cell_type": "code",
   "execution_count": null,
   "metadata": {},
   "outputs": [],
   "source": [
    "traindl, valdl = data.BucketIterator.splits(datasets=(trainds, valds), \n",
    "                                            batch_sizes=(512,1024), \n",
    "                                            sort_key=lambda x: len(x.SentimentText), \n",
    "                                            device=device, \n",
    "                                            sort_within_batch=True, \n",
    "                                            repeat=False)\n",
    "\n",
    "train_batch_it = BatchGenerator(traindl, 'SentimentText', 'Sentiment')\n",
    "val_batch_it = BatchGenerator(valdl, 'SentimentText', 'Sentiment')"
   ]
  },
  {
   "cell_type": "markdown",
   "metadata": {},
   "source": [
    "##### Train simple GRU model"
   ]
  },
  {
   "cell_type": "code",
   "execution_count": null,
   "metadata": {},
   "outputs": [
    {
     "data": {
      "application/vnd.jupyter.widget-view+json": {
       "model_id": "544860be42ff4537a01860a946eab129",
       "version_major": 2,
       "version_minor": 0
      },
      "text/plain": [
       "HBox(children=(IntProgress(value=0, max=10), HTML(value='')))"
      ]
     },
     "metadata": {},
     "output_type": "display_data"
    },
    {
     "data": {
      "application/vnd.jupyter.widget-view+json": {
       "model_id": "",
       "version_major": 2,
       "version_minor": 0
      },
      "text/plain": [
       "HBox(children=(IntProgress(value=0, max=17), HTML(value='')))"
      ]
     },
     "metadata": {},
     "output_type": "display_data"
    },
    {
     "data": {
      "application/vnd.jupyter.widget-view+json": {
       "model_id": "",
       "version_major": 2,
       "version_minor": 0
      },
      "text/plain": [
       "HBox(children=(IntProgress(value=0, max=3), HTML(value='')))"
      ]
     },
     "metadata": {},
     "output_type": "display_data"
    },
    {
     "name": "stdout",
     "output_type": "stream",
     "text": [
      "Epoch 0: train_loss: 2.2293 train_acc: 0.4018 | val_loss: 1.9871 val_acc: 0.5243\n"
     ]
    },
    {
     "data": {
      "application/vnd.jupyter.widget-view+json": {
       "model_id": "",
       "version_major": 2,
       "version_minor": 0
      },
      "text/plain": [
       "HBox(children=(IntProgress(value=0, max=17), HTML(value='')))"
      ]
     },
     "metadata": {},
     "output_type": "display_data"
    },
    {
     "data": {
      "application/vnd.jupyter.widget-view+json": {
       "model_id": "",
       "version_major": 2,
       "version_minor": 0
      },
      "text/plain": [
       "HBox(children=(IntProgress(value=0, max=3), HTML(value='')))"
      ]
     },
     "metadata": {},
     "output_type": "display_data"
    },
    {
     "name": "stdout",
     "output_type": "stream",
     "text": [
      "Epoch 1: train_loss: 1.6790 train_acc: 0.5147 | val_loss: 1.9180 val_acc: 0.5252\n"
     ]
    },
    {
     "data": {
      "application/vnd.jupyter.widget-view+json": {
       "model_id": "",
       "version_major": 2,
       "version_minor": 0
      },
      "text/plain": [
       "HBox(children=(IntProgress(value=0, max=17), HTML(value='')))"
      ]
     },
     "metadata": {},
     "output_type": "display_data"
    },
    {
     "data": {
      "application/vnd.jupyter.widget-view+json": {
       "model_id": "",
       "version_major": 2,
       "version_minor": 0
      },
      "text/plain": [
       "HBox(children=(IntProgress(value=0, max=3), HTML(value='')))"
      ]
     },
     "metadata": {},
     "output_type": "display_data"
    },
    {
     "name": "stdout",
     "output_type": "stream",
     "text": [
      "Epoch 2: train_loss: 1.5752 train_acc: 0.5227 | val_loss: 1.8561 val_acc: 0.5517\n"
     ]
    },
    {
     "data": {
      "application/vnd.jupyter.widget-view+json": {
       "model_id": "",
       "version_major": 2,
       "version_minor": 0
      },
      "text/plain": [
       "HBox(children=(IntProgress(value=0, max=17), HTML(value='')))"
      ]
     },
     "metadata": {},
     "output_type": "display_data"
    },
    {
     "data": {
      "application/vnd.jupyter.widget-view+json": {
       "model_id": "",
       "version_major": 2,
       "version_minor": 0
      },
      "text/plain": [
       "HBox(children=(IntProgress(value=0, max=3), HTML(value='')))"
      ]
     },
     "metadata": {},
     "output_type": "display_data"
    },
    {
     "name": "stdout",
     "output_type": "stream",
     "text": [
      "Epoch 3: train_loss: 1.5100 train_acc: 0.5375 | val_loss: 1.8241 val_acc: 0.5706\n"
     ]
    },
    {
     "data": {
      "application/vnd.jupyter.widget-view+json": {
       "model_id": "",
       "version_major": 2,
       "version_minor": 0
      },
      "text/plain": [
       "HBox(children=(IntProgress(value=0, max=17), HTML(value='')))"
      ]
     },
     "metadata": {},
     "output_type": "display_data"
    },
    {
     "data": {
      "application/vnd.jupyter.widget-view+json": {
       "model_id": "",
       "version_major": 2,
       "version_minor": 0
      },
      "text/plain": [
       "HBox(children=(IntProgress(value=0, max=3), HTML(value='')))"
      ]
     },
     "metadata": {},
     "output_type": "display_data"
    },
    {
     "name": "stdout",
     "output_type": "stream",
     "text": [
      "Epoch 4: train_loss: 1.4253 train_acc: 0.5776 | val_loss: 1.7423 val_acc: 0.5861\n"
     ]
    },
    {
     "data": {
      "application/vnd.jupyter.widget-view+json": {
       "model_id": "",
       "version_major": 2,
       "version_minor": 0
      },
      "text/plain": [
       "HBox(children=(IntProgress(value=0, max=17), HTML(value='')))"
      ]
     },
     "metadata": {},
     "output_type": "display_data"
    },
    {
     "data": {
      "application/vnd.jupyter.widget-view+json": {
       "model_id": "",
       "version_major": 2,
       "version_minor": 0
      },
      "text/plain": [
       "HBox(children=(IntProgress(value=0, max=3), HTML(value='')))"
      ]
     },
     "metadata": {},
     "output_type": "display_data"
    },
    {
     "name": "stdout",
     "output_type": "stream",
     "text": [
      "Epoch 5: train_loss: 1.3483 train_acc: 0.6021 | val_loss: 1.6688 val_acc: 0.6177\n"
     ]
    },
    {
     "data": {
      "application/vnd.jupyter.widget-view+json": {
       "model_id": "",
       "version_major": 2,
       "version_minor": 0
      },
      "text/plain": [
       "HBox(children=(IntProgress(value=0, max=17), HTML(value='')))"
      ]
     },
     "metadata": {},
     "output_type": "display_data"
    },
    {
     "data": {
      "application/vnd.jupyter.widget-view+json": {
       "model_id": "",
       "version_major": 2,
       "version_minor": 0
      },
      "text/plain": [
       "HBox(children=(IntProgress(value=0, max=3), HTML(value='')))"
      ]
     },
     "metadata": {},
     "output_type": "display_data"
    },
    {
     "name": "stdout",
     "output_type": "stream",
     "text": [
      "Epoch 6: train_loss: 1.2647 train_acc: 0.6235 | val_loss: 1.6211 val_acc: 0.6479\n"
     ]
    },
    {
     "data": {
      "application/vnd.jupyter.widget-view+json": {
       "model_id": "",
       "version_major": 2,
       "version_minor": 0
      },
      "text/plain": [
       "HBox(children=(IntProgress(value=0, max=17), HTML(value='')))"
      ]
     },
     "metadata": {},
     "output_type": "display_data"
    },
    {
     "data": {
      "application/vnd.jupyter.widget-view+json": {
       "model_id": "",
       "version_major": 2,
       "version_minor": 0
      },
      "text/plain": [
       "HBox(children=(IntProgress(value=0, max=3), HTML(value='')))"
      ]
     },
     "metadata": {},
     "output_type": "display_data"
    },
    {
     "name": "stdout",
     "output_type": "stream",
     "text": [
      "Epoch 7: train_loss: 1.1931 train_acc: 0.6454 | val_loss: 1.5379 val_acc: 0.6612\n"
     ]
    },
    {
     "data": {
      "application/vnd.jupyter.widget-view+json": {
       "model_id": "",
       "version_major": 2,
       "version_minor": 0
      },
      "text/plain": [
       "HBox(children=(IntProgress(value=0, max=17), HTML(value='')))"
      ]
     },
     "metadata": {},
     "output_type": "display_data"
    },
    {
     "data": {
      "application/vnd.jupyter.widget-view+json": {
       "model_id": "",
       "version_major": 2,
       "version_minor": 0
      },
      "text/plain": [
       "HBox(children=(IntProgress(value=0, max=3), HTML(value='')))"
      ]
     },
     "metadata": {},
     "output_type": "display_data"
    },
    {
     "name": "stdout",
     "output_type": "stream",
     "text": [
      "Epoch 8: train_loss: 1.1396 train_acc: 0.6628 | val_loss: 1.4948 val_acc: 0.6701\n"
     ]
    },
    {
     "data": {
      "application/vnd.jupyter.widget-view+json": {
       "model_id": "",
       "version_major": 2,
       "version_minor": 0
      },
      "text/plain": [
       "HBox(children=(IntProgress(value=0, max=17), HTML(value='')))"
      ]
     },
     "metadata": {},
     "output_type": "display_data"
    },
    {
     "data": {
      "application/vnd.jupyter.widget-view+json": {
       "model_id": "",
       "version_major": 2,
       "version_minor": 0
      },
      "text/plain": [
       "HBox(children=(IntProgress(value=0, max=3), HTML(value='')))"
      ]
     },
     "metadata": {},
     "output_type": "display_data"
    },
    {
     "name": "stdout",
     "output_type": "stream",
     "text": [
      "Epoch 9: train_loss: 1.0853 train_acc: 0.6782 | val_loss: 1.4731 val_acc: 0.6758\n",
      "\n"
     ]
    }
   ],
   "source": [
    "m = SimpleGRU(vocab_size, embedding_dim, n_hidden, n_out, trainds.fields['SentimentText'].vocab.vectors).to(device)\n",
    "opt = optim.Adam(filter(lambda p: p.requires_grad, m.parameters()), 1e-3)\n",
    "\n",
    "fit(model=m, train_dl=train_batch_it, val_dl=val_batch_it, loss_fn=F.nll_loss, opt=opt, epochs=10)"
   ]
  },
  {
   "cell_type": "code",
   "execution_count": null,
   "metadata": {},
   "outputs": [
    {
     "data": {
      "application/vnd.jupyter.widget-view+json": {
       "model_id": "cdf5490878bc4b61a63fadd87a2cac81",
       "version_major": 2,
       "version_minor": 0
      },
      "text/plain": [
       "HBox(children=(IntProgress(value=0, max=20), HTML(value='')))"
      ]
     },
     "metadata": {},
     "output_type": "display_data"
    },
    {
     "data": {
      "application/vnd.jupyter.widget-view+json": {
       "model_id": "",
       "version_major": 2,
       "version_minor": 0
      },
      "text/plain": [
       "HBox(children=(IntProgress(value=0, max=17), HTML(value='')))"
      ]
     },
     "metadata": {},
     "output_type": "display_data"
    },
    {
     "data": {
      "application/vnd.jupyter.widget-view+json": {
       "model_id": "",
       "version_major": 2,
       "version_minor": 0
      },
      "text/plain": [
       "HBox(children=(IntProgress(value=0, max=3), HTML(value='')))"
      ]
     },
     "metadata": {},
     "output_type": "display_data"
    },
    {
     "name": "stdout",
     "output_type": "stream",
     "text": [
      "Epoch 0: train_loss: 2.2181 train_acc: 0.4034 | val_loss: 1.9638 val_acc: 0.5191\n"
     ]
    },
    {
     "data": {
      "application/vnd.jupyter.widget-view+json": {
       "model_id": "",
       "version_major": 2,
       "version_minor": 0
      },
      "text/plain": [
       "HBox(children=(IntProgress(value=0, max=17), HTML(value='')))"
      ]
     },
     "metadata": {},
     "output_type": "display_data"
    },
    {
     "data": {
      "application/vnd.jupyter.widget-view+json": {
       "model_id": "",
       "version_major": 2,
       "version_minor": 0
      },
      "text/plain": [
       "HBox(children=(IntProgress(value=0, max=3), HTML(value='')))"
      ]
     },
     "metadata": {},
     "output_type": "display_data"
    },
    {
     "name": "stdout",
     "output_type": "stream",
     "text": [
      "Epoch 1: train_loss: 1.6963 train_acc: 0.5117 | val_loss: 1.9212 val_acc: 0.5281\n"
     ]
    },
    {
     "data": {
      "application/vnd.jupyter.widget-view+json": {
       "model_id": "",
       "version_major": 2,
       "version_minor": 0
      },
      "text/plain": [
       "HBox(children=(IntProgress(value=0, max=17), HTML(value='')))"
      ]
     },
     "metadata": {},
     "output_type": "display_data"
    },
    {
     "data": {
      "application/vnd.jupyter.widget-view+json": {
       "model_id": "",
       "version_major": 2,
       "version_minor": 0
      },
      "text/plain": [
       "HBox(children=(IntProgress(value=0, max=3), HTML(value='')))"
      ]
     },
     "metadata": {},
     "output_type": "display_data"
    },
    {
     "name": "stdout",
     "output_type": "stream",
     "text": [
      "Epoch 2: train_loss: 1.5977 train_acc: 0.5188 | val_loss: 1.8818 val_acc: 0.5290\n"
     ]
    },
    {
     "data": {
      "application/vnd.jupyter.widget-view+json": {
       "model_id": "",
       "version_major": 2,
       "version_minor": 0
      },
      "text/plain": [
       "HBox(children=(IntProgress(value=0, max=17), HTML(value='')))"
      ]
     },
     "metadata": {},
     "output_type": "display_data"
    },
    {
     "data": {
      "application/vnd.jupyter.widget-view+json": {
       "model_id": "",
       "version_major": 2,
       "version_minor": 0
      },
      "text/plain": [
       "HBox(children=(IntProgress(value=0, max=3), HTML(value='')))"
      ]
     },
     "metadata": {},
     "output_type": "display_data"
    },
    {
     "name": "stdout",
     "output_type": "stream",
     "text": [
      "Epoch 3: train_loss: 1.5520 train_acc: 0.5283 | val_loss: 1.8594 val_acc: 0.5432\n"
     ]
    },
    {
     "data": {
      "application/vnd.jupyter.widget-view+json": {
       "model_id": "",
       "version_major": 2,
       "version_minor": 0
      },
      "text/plain": [
       "HBox(children=(IntProgress(value=0, max=17), HTML(value='')))"
      ]
     },
     "metadata": {},
     "output_type": "display_data"
    },
    {
     "data": {
      "application/vnd.jupyter.widget-view+json": {
       "model_id": "",
       "version_major": 2,
       "version_minor": 0
      },
      "text/plain": [
       "HBox(children=(IntProgress(value=0, max=3), HTML(value='')))"
      ]
     },
     "metadata": {},
     "output_type": "display_data"
    },
    {
     "name": "stdout",
     "output_type": "stream",
     "text": [
      "Epoch 4: train_loss: 1.5148 train_acc: 0.5469 | val_loss: 1.8311 val_acc: 0.5606\n"
     ]
    },
    {
     "data": {
      "application/vnd.jupyter.widget-view+json": {
       "model_id": "",
       "version_major": 2,
       "version_minor": 0
      },
      "text/plain": [
       "HBox(children=(IntProgress(value=0, max=17), HTML(value='')))"
      ]
     },
     "metadata": {},
     "output_type": "display_data"
    },
    {
     "data": {
      "application/vnd.jupyter.widget-view+json": {
       "model_id": "",
       "version_major": 2,
       "version_minor": 0
      },
      "text/plain": [
       "HBox(children=(IntProgress(value=0, max=3), HTML(value='')))"
      ]
     },
     "metadata": {},
     "output_type": "display_data"
    },
    {
     "name": "stdout",
     "output_type": "stream",
     "text": [
      "Epoch 5: train_loss: 1.4809 train_acc: 0.5647 | val_loss: 1.8145 val_acc: 0.5701\n"
     ]
    },
    {
     "data": {
      "application/vnd.jupyter.widget-view+json": {
       "model_id": "",
       "version_major": 2,
       "version_minor": 0
      },
      "text/plain": [
       "HBox(children=(IntProgress(value=0, max=17), HTML(value='')))"
      ]
     },
     "metadata": {},
     "output_type": "display_data"
    },
    {
     "data": {
      "application/vnd.jupyter.widget-view+json": {
       "model_id": "",
       "version_major": 2,
       "version_minor": 0
      },
      "text/plain": [
       "HBox(children=(IntProgress(value=0, max=3), HTML(value='')))"
      ]
     },
     "metadata": {},
     "output_type": "display_data"
    },
    {
     "name": "stdout",
     "output_type": "stream",
     "text": [
      "Epoch 6: train_loss: 1.4511 train_acc: 0.5716 | val_loss: 1.7983 val_acc: 0.5767\n"
     ]
    },
    {
     "data": {
      "application/vnd.jupyter.widget-view+json": {
       "model_id": "",
       "version_major": 2,
       "version_minor": 0
      },
      "text/plain": [
       "HBox(children=(IntProgress(value=0, max=17), HTML(value='')))"
      ]
     },
     "metadata": {},
     "output_type": "display_data"
    },
    {
     "data": {
      "application/vnd.jupyter.widget-view+json": {
       "model_id": "",
       "version_major": 2,
       "version_minor": 0
      },
      "text/plain": [
       "HBox(children=(IntProgress(value=0, max=3), HTML(value='')))"
      ]
     },
     "metadata": {},
     "output_type": "display_data"
    },
    {
     "name": "stdout",
     "output_type": "stream",
     "text": [
      "Epoch 7: train_loss: 1.4191 train_acc: 0.5794 | val_loss: 1.7708 val_acc: 0.5847\n"
     ]
    },
    {
     "data": {
      "application/vnd.jupyter.widget-view+json": {
       "model_id": "",
       "version_major": 2,
       "version_minor": 0
      },
      "text/plain": [
       "HBox(children=(IntProgress(value=0, max=17), HTML(value='')))"
      ]
     },
     "metadata": {},
     "output_type": "display_data"
    },
    {
     "data": {
      "application/vnd.jupyter.widget-view+json": {
       "model_id": "",
       "version_major": 2,
       "version_minor": 0
      },
      "text/plain": [
       "HBox(children=(IntProgress(value=0, max=3), HTML(value='')))"
      ]
     },
     "metadata": {},
     "output_type": "display_data"
    },
    {
     "name": "stdout",
     "output_type": "stream",
     "text": [
      "Epoch 8: train_loss: 1.3847 train_acc: 0.5908 | val_loss: 1.7776 val_acc: 0.5927\n"
     ]
    },
    {
     "data": {
      "application/vnd.jupyter.widget-view+json": {
       "model_id": "",
       "version_major": 2,
       "version_minor": 0
      },
      "text/plain": [
       "HBox(children=(IntProgress(value=0, max=17), HTML(value='')))"
      ]
     },
     "metadata": {},
     "output_type": "display_data"
    },
    {
     "data": {
      "application/vnd.jupyter.widget-view+json": {
       "model_id": "",
       "version_major": 2,
       "version_minor": 0
      },
      "text/plain": [
       "HBox(children=(IntProgress(value=0, max=3), HTML(value='')))"
      ]
     },
     "metadata": {},
     "output_type": "display_data"
    },
    {
     "name": "stdout",
     "output_type": "stream",
     "text": [
      "Epoch 9: train_loss: 1.3591 train_acc: 0.5936 | val_loss: 1.7536 val_acc: 0.5927\n"
     ]
    },
    {
     "data": {
      "application/vnd.jupyter.widget-view+json": {
       "model_id": "",
       "version_major": 2,
       "version_minor": 0
      },
      "text/plain": [
       "HBox(children=(IntProgress(value=0, max=17), HTML(value='')))"
      ]
     },
     "metadata": {},
     "output_type": "display_data"
    },
    {
     "data": {
      "application/vnd.jupyter.widget-view+json": {
       "model_id": "",
       "version_major": 2,
       "version_minor": 0
      },
      "text/plain": [
       "HBox(children=(IntProgress(value=0, max=3), HTML(value='')))"
      ]
     },
     "metadata": {},
     "output_type": "display_data"
    },
    {
     "name": "stdout",
     "output_type": "stream",
     "text": [
      "Epoch 10: train_loss: 1.3310 train_acc: 0.5928 | val_loss: 1.6519 val_acc: 0.6022\n"
     ]
    },
    {
     "data": {
      "application/vnd.jupyter.widget-view+json": {
       "model_id": "",
       "version_major": 2,
       "version_minor": 0
      },
      "text/plain": [
       "HBox(children=(IntProgress(value=0, max=17), HTML(value='')))"
      ]
     },
     "metadata": {},
     "output_type": "display_data"
    },
    {
     "data": {
      "application/vnd.jupyter.widget-view+json": {
       "model_id": "",
       "version_major": 2,
       "version_minor": 0
      },
      "text/plain": [
       "HBox(children=(IntProgress(value=0, max=3), HTML(value='')))"
      ]
     },
     "metadata": {},
     "output_type": "display_data"
    },
    {
     "name": "stdout",
     "output_type": "stream",
     "text": [
      "Epoch 11: train_loss: 1.2814 train_acc: 0.6057 | val_loss: 1.6474 val_acc: 0.6234\n"
     ]
    },
    {
     "data": {
      "application/vnd.jupyter.widget-view+json": {
       "model_id": "",
       "version_major": 2,
       "version_minor": 0
      },
      "text/plain": [
       "HBox(children=(IntProgress(value=0, max=17), HTML(value='')))"
      ]
     },
     "metadata": {},
     "output_type": "display_data"
    },
    {
     "data": {
      "application/vnd.jupyter.widget-view+json": {
       "model_id": "",
       "version_major": 2,
       "version_minor": 0
      },
      "text/plain": [
       "HBox(children=(IntProgress(value=0, max=3), HTML(value='')))"
      ]
     },
     "metadata": {},
     "output_type": "display_data"
    },
    {
     "name": "stdout",
     "output_type": "stream",
     "text": [
      "Epoch 12: train_loss: 1.2446 train_acc: 0.6165 | val_loss: 1.5954 val_acc: 0.6182\n"
     ]
    },
    {
     "data": {
      "application/vnd.jupyter.widget-view+json": {
       "model_id": "",
       "version_major": 2,
       "version_minor": 0
      },
      "text/plain": [
       "HBox(children=(IntProgress(value=0, max=17), HTML(value='')))"
      ]
     },
     "metadata": {},
     "output_type": "display_data"
    },
    {
     "data": {
      "application/vnd.jupyter.widget-view+json": {
       "model_id": "",
       "version_major": 2,
       "version_minor": 0
      },
      "text/plain": [
       "HBox(children=(IntProgress(value=0, max=3), HTML(value='')))"
      ]
     },
     "metadata": {},
     "output_type": "display_data"
    },
    {
     "name": "stdout",
     "output_type": "stream",
     "text": [
      "Epoch 13: train_loss: 1.2344 train_acc: 0.6189 | val_loss: 1.5302 val_acc: 0.6380\n"
     ]
    },
    {
     "data": {
      "application/vnd.jupyter.widget-view+json": {
       "model_id": "",
       "version_major": 2,
       "version_minor": 0
      },
      "text/plain": [
       "HBox(children=(IntProgress(value=0, max=17), HTML(value='')))"
      ]
     },
     "metadata": {},
     "output_type": "display_data"
    },
    {
     "data": {
      "application/vnd.jupyter.widget-view+json": {
       "model_id": "",
       "version_major": 2,
       "version_minor": 0
      },
      "text/plain": [
       "HBox(children=(IntProgress(value=0, max=3), HTML(value='')))"
      ]
     },
     "metadata": {},
     "output_type": "display_data"
    },
    {
     "name": "stdout",
     "output_type": "stream",
     "text": [
      "Epoch 14: train_loss: 1.1905 train_acc: 0.6319 | val_loss: 1.5241 val_acc: 0.6465\n"
     ]
    },
    {
     "data": {
      "application/vnd.jupyter.widget-view+json": {
       "model_id": "",
       "version_major": 2,
       "version_minor": 0
      },
      "text/plain": [
       "HBox(children=(IntProgress(value=0, max=17), HTML(value='')))"
      ]
     },
     "metadata": {},
     "output_type": "display_data"
    },
    {
     "data": {
      "application/vnd.jupyter.widget-view+json": {
       "model_id": "",
       "version_major": 2,
       "version_minor": 0
      },
      "text/plain": [
       "HBox(children=(IntProgress(value=0, max=3), HTML(value='')))"
      ]
     },
     "metadata": {},
     "output_type": "display_data"
    },
    {
     "name": "stdout",
     "output_type": "stream",
     "text": [
      "Epoch 15: train_loss: 1.1983 train_acc: 0.6291 | val_loss: 1.5353 val_acc: 0.6300\n"
     ]
    },
    {
     "data": {
      "application/vnd.jupyter.widget-view+json": {
       "model_id": "",
       "version_major": 2,
       "version_minor": 0
      },
      "text/plain": [
       "HBox(children=(IntProgress(value=0, max=17), HTML(value='')))"
      ]
     },
     "metadata": {},
     "output_type": "display_data"
    },
    {
     "data": {
      "application/vnd.jupyter.widget-view+json": {
       "model_id": "",
       "version_major": 2,
       "version_minor": 0
      },
      "text/plain": [
       "HBox(children=(IntProgress(value=0, max=3), HTML(value='')))"
      ]
     },
     "metadata": {},
     "output_type": "display_data"
    },
    {
     "name": "stdout",
     "output_type": "stream",
     "text": [
      "Epoch 16: train_loss: 1.1787 train_acc: 0.6402 | val_loss: 1.4889 val_acc: 0.6352\n"
     ]
    },
    {
     "data": {
      "application/vnd.jupyter.widget-view+json": {
       "model_id": "",
       "version_major": 2,
       "version_minor": 0
      },
      "text/plain": [
       "HBox(children=(IntProgress(value=0, max=17), HTML(value='')))"
      ]
     },
     "metadata": {},
     "output_type": "display_data"
    },
    {
     "data": {
      "application/vnd.jupyter.widget-view+json": {
       "model_id": "",
       "version_major": 2,
       "version_minor": 0
      },
      "text/plain": [
       "HBox(children=(IntProgress(value=0, max=3), HTML(value='')))"
      ]
     },
     "metadata": {},
     "output_type": "display_data"
    },
    {
     "name": "stdout",
     "output_type": "stream",
     "text": [
      "Epoch 17: train_loss: 1.1487 train_acc: 0.6500 | val_loss: 1.5026 val_acc: 0.6286\n"
     ]
    },
    {
     "data": {
      "application/vnd.jupyter.widget-view+json": {
       "model_id": "",
       "version_major": 2,
       "version_minor": 0
      },
      "text/plain": [
       "HBox(children=(IntProgress(value=0, max=17), HTML(value='')))"
      ]
     },
     "metadata": {},
     "output_type": "display_data"
    },
    {
     "data": {
      "application/vnd.jupyter.widget-view+json": {
       "model_id": "",
       "version_major": 2,
       "version_minor": 0
      },
      "text/plain": [
       "HBox(children=(IntProgress(value=0, max=3), HTML(value='')))"
      ]
     },
     "metadata": {},
     "output_type": "display_data"
    },
    {
     "name": "stdout",
     "output_type": "stream",
     "text": [
      "Epoch 18: train_loss: 1.1330 train_acc: 0.6553 | val_loss: 1.4786 val_acc: 0.6494\n"
     ]
    },
    {
     "data": {
      "application/vnd.jupyter.widget-view+json": {
       "model_id": "",
       "version_major": 2,
       "version_minor": 0
      },
      "text/plain": [
       "HBox(children=(IntProgress(value=0, max=17), HTML(value='')))"
      ]
     },
     "metadata": {},
     "output_type": "display_data"
    },
    {
     "data": {
      "application/vnd.jupyter.widget-view+json": {
       "model_id": "",
       "version_major": 2,
       "version_minor": 0
      },
      "text/plain": [
       "HBox(children=(IntProgress(value=0, max=3), HTML(value='')))"
      ]
     },
     "metadata": {},
     "output_type": "display_data"
    },
    {
     "name": "stdout",
     "output_type": "stream",
     "text": [
      "Epoch 19: train_loss: 1.1090 train_acc: 0.6575 | val_loss: 1.4753 val_acc: 0.6541\n",
      "\n"
     ]
    }
   ],
   "source": [
    "m = SimpleRNN(vocab_size, embedding_dim, n_hidden, n_out, trainds.fields['SentimentText'].vocab.vectors).to(device)\n",
    "opt = optim.Adam(filter(lambda p: p.requires_grad, m.parameters()), 1e-3)\n",
    "\n",
    "fit(model=m, train_dl=train_batch_it, val_dl=val_batch_it, loss_fn=F.nll_loss, opt=opt, epochs=20)"
   ]
  },
  {
   "cell_type": "markdown",
   "metadata": {},
   "source": [
    "##### Train Concat Pooling model"
   ]
  },
  {
   "cell_type": "code",
   "execution_count": null,
   "metadata": {},
   "outputs": [
    {
     "data": {
      "application/vnd.jupyter.widget-view+json": {
       "model_id": "ab92a7c20d88407a886c187bfdd9de77",
       "version_major": 2,
       "version_minor": 0
      },
      "text/plain": [
       "HBox(children=(IntProgress(value=0, max=10), HTML(value='')))"
      ]
     },
     "metadata": {},
     "output_type": "display_data"
    },
    {
     "data": {
      "application/vnd.jupyter.widget-view+json": {
       "model_id": "",
       "version_major": 2,
       "version_minor": 0
      },
      "text/plain": [
       "HBox(children=(IntProgress(value=0, max=17), HTML(value='')))"
      ]
     },
     "metadata": {},
     "output_type": "display_data"
    },
    {
     "data": {
      "application/vnd.jupyter.widget-view+json": {
       "model_id": "",
       "version_major": 2,
       "version_minor": 0
      },
      "text/plain": [
       "HBox(children=(IntProgress(value=0, max=3), HTML(value='')))"
      ]
     },
     "metadata": {},
     "output_type": "display_data"
    },
    {
     "name": "stdout",
     "output_type": "stream",
     "text": [
      "Epoch 0: train_loss: 2.1182 train_acc: 0.4093 | val_loss: 2.0165 val_acc: 0.5243\n"
     ]
    },
    {
     "data": {
      "application/vnd.jupyter.widget-view+json": {
       "model_id": "",
       "version_major": 2,
       "version_minor": 0
      },
      "text/plain": [
       "HBox(children=(IntProgress(value=0, max=17), HTML(value='')))"
      ]
     },
     "metadata": {},
     "output_type": "display_data"
    },
    {
     "data": {
      "application/vnd.jupyter.widget-view+json": {
       "model_id": "",
       "version_major": 2,
       "version_minor": 0
      },
      "text/plain": [
       "HBox(children=(IntProgress(value=0, max=3), HTML(value='')))"
      ]
     },
     "metadata": {},
     "output_type": "display_data"
    },
    {
     "name": "stdout",
     "output_type": "stream",
     "text": [
      "Epoch 1: train_loss: 1.6402 train_acc: 0.5175 | val_loss: 2.0020 val_acc: 0.5347\n"
     ]
    },
    {
     "data": {
      "application/vnd.jupyter.widget-view+json": {
       "model_id": "",
       "version_major": 2,
       "version_minor": 0
      },
      "text/plain": [
       "HBox(children=(IntProgress(value=0, max=17), HTML(value='')))"
      ]
     },
     "metadata": {},
     "output_type": "display_data"
    },
    {
     "data": {
      "application/vnd.jupyter.widget-view+json": {
       "model_id": "",
       "version_major": 2,
       "version_minor": 0
      },
      "text/plain": [
       "HBox(children=(IntProgress(value=0, max=3), HTML(value='')))"
      ]
     },
     "metadata": {},
     "output_type": "display_data"
    },
    {
     "name": "stdout",
     "output_type": "stream",
     "text": [
      "Epoch 2: train_loss: 1.5374 train_acc: 0.5343 | val_loss: 1.9732 val_acc: 0.5625\n"
     ]
    },
    {
     "data": {
      "application/vnd.jupyter.widget-view+json": {
       "model_id": "",
       "version_major": 2,
       "version_minor": 0
      },
      "text/plain": [
       "HBox(children=(IntProgress(value=0, max=17), HTML(value='')))"
      ]
     },
     "metadata": {},
     "output_type": "display_data"
    },
    {
     "data": {
      "application/vnd.jupyter.widget-view+json": {
       "model_id": "",
       "version_major": 2,
       "version_minor": 0
      },
      "text/plain": [
       "HBox(children=(IntProgress(value=0, max=3), HTML(value='')))"
      ]
     },
     "metadata": {},
     "output_type": "display_data"
    },
    {
     "name": "stdout",
     "output_type": "stream",
     "text": [
      "Epoch 3: train_loss: 1.4337 train_acc: 0.5758 | val_loss: 1.8883 val_acc: 0.5880\n"
     ]
    },
    {
     "data": {
      "application/vnd.jupyter.widget-view+json": {
       "model_id": "",
       "version_major": 2,
       "version_minor": 0
      },
      "text/plain": [
       "HBox(children=(IntProgress(value=0, max=17), HTML(value='')))"
      ]
     },
     "metadata": {},
     "output_type": "display_data"
    },
    {
     "data": {
      "application/vnd.jupyter.widget-view+json": {
       "model_id": "",
       "version_major": 2,
       "version_minor": 0
      },
      "text/plain": [
       "HBox(children=(IntProgress(value=0, max=3), HTML(value='')))"
      ]
     },
     "metadata": {},
     "output_type": "display_data"
    },
    {
     "name": "stdout",
     "output_type": "stream",
     "text": [
      "Epoch 4: train_loss: 1.3491 train_acc: 0.6099 | val_loss: 1.7501 val_acc: 0.5828\n"
     ]
    },
    {
     "data": {
      "application/vnd.jupyter.widget-view+json": {
       "model_id": "",
       "version_major": 2,
       "version_minor": 0
      },
      "text/plain": [
       "HBox(children=(IntProgress(value=0, max=17), HTML(value='')))"
      ]
     },
     "metadata": {},
     "output_type": "display_data"
    },
    {
     "data": {
      "application/vnd.jupyter.widget-view+json": {
       "model_id": "",
       "version_major": 2,
       "version_minor": 0
      },
      "text/plain": [
       "HBox(children=(IntProgress(value=0, max=3), HTML(value='')))"
      ]
     },
     "metadata": {},
     "output_type": "display_data"
    }
   ],
   "source": [
    "m = ConcatPoolingGRUAdaptive(vocab_size, embedding_dim, n_hidden, n_out, trainds.fields['SentimentText'].vocab.vectors).to(device)\n",
    "opt = optim.Adam(filter(lambda p: p.requires_grad, m.parameters()), 1e-3)\n",
    "\n",
    "fit(model=m, train_dl=train_batch_it, val_dl=val_batch_it, loss_fn=F.nll_loss, opt=opt, epochs=10)"
   ]
  },
  {
   "cell_type": "code",
   "execution_count": null,
   "metadata": {},
   "outputs": [],
   "source": []
  }
 ],
 "metadata": {
  "kernelspec": {
   "display_name": "Python 3",
   "language": "python",
   "name": "python3"
  },
  "language_info": {
   "codemirror_mode": {
    "name": "ipython",
    "version": 3
   },
   "file_extension": ".py",
   "mimetype": "text/x-python",
   "name": "python",
   "nbconvert_exporter": "python",
   "pygments_lexer": "ipython3",
   "version": "3.6.7"
  }
 },
 "nbformat": 4,
 "nbformat_minor": 2
}
