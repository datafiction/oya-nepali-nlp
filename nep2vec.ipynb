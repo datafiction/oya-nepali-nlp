{
 "cells": [
  {
   "cell_type": "markdown",
   "metadata": {},
   "source": [
    "### Reading XML and TXT corpus simultaneously"
   ]
  },
  {
   "cell_type": "code",
   "execution_count": 2,
   "metadata": {},
   "outputs": [],
   "source": [
    "import nltk\n",
    "import nltk.corpus as nc\n",
    "import NNCCorpus as nnc\n",
    "\n",
    "xmlDir = \"C:\\\\Users\\\\uttam\\\\Documents\\\\UMBC\\\\IndependentStudy\\\\dataset\\\\nnc_updated_ah\\\\cs\"\n",
    "c = nnc.NNCCorpusReader(xmlDir, fileids=r'(?!\\.).*\\.xml')\n",
    "\n",
    "txtDir = \"./data/corpus/\"\n",
    "d = nc.IndianCorpusReader(txtDir, fileids=r'(?!\\.).*\\.txt')"
   ]
  },
  {
   "cell_type": "code",
   "execution_count": 3,
   "metadata": {},
   "outputs": [
    {
     "name": "stdout",
     "output_type": "stream",
     "text": [
      "[['काठमाडौं', 'को', 'केलटोल', 'मा', 'एक', 'मध्यमवर्गीय', 'परिवार', 'को', 'घर', 'थियो', '।'], ['त्यस', 'घर', 'मा', 'श्री', 'भवानीवीर', 'सिंह', 'कंसाकार', 'र', 'श्रीमती', 'लक्ष्मीदेवी', 'कंसाकार', 'का', 'ज्येष्ठ', 'सुपुत्र', 'का', 'रूप', 'मा', 'बि.', 'सं.', '१९६८', 'बैशाख', '२२', 'का', 'दिन', 'एक', 'बालक', 'को', 'जन्म', 'भयो', 'जस', 'को', 'नाम', 'राखियो', 'दयावीरसिंह', 'कंसाकार', '।'], ['कंसाकार', 'परिवार', 'बौद्ध', 'धर्मावलम्बी', 'भए', 'को', 'ले', 'बाल्यकाल', 'को', 'वातावरण', 'त्यसै', 'अनुरुप', 'थियो', '।'], ['भगवान्', 'बुद्ध', 'का', 'उपदेश', 'हरु', 'उन', 'का', 'लागि', 'प्रारम्भिक', 'शिक्षा', 'का', 'रुप', 'मा', 'प्राप्त', 'भए', '।'], ['आफ्ना', 'वाल्यवस्था', 'मा', 'उन', 'ले', 'एउ', 'टै', 'शिक्षा', 'प्रवल', 'रुप', 'मा', 'पाए', 'त्यो', 'शिक्षा', 'थियो', 'सेवा', 'नै', 'धर्म', 'हो', '।'], ['घर', 'मा', 'जो', 'जो', 'आउँथे', 'हरेक', 'लाई', 'उन', 'की', 'आमा', 'केही', 'न', 'केही', 'दिएर', 'पठाउँथिन्', '।'], ['कोही', 'पैसा', 'माग्न', 'आउँथे', 'आमा', 'सकेजति', 'दिएर', 'पठाउँथिन्', '।'], ['गरीब', 'को', 'सेवा', 'गर्नु', 'पर्छ', '-', 'उन', 'की', 'आमा', 'भन्ने', 'गर्थिन्', '।'], ['फुर्सद', 'को', 'क्षण', 'मा', 'आमा', 'स-साना', 'थैला', 'हरु', 'बनाउँथिन्', '।']]\n"
     ]
    }
   ],
   "source": [
    "print(c.sents()[1:10])"
   ]
  },
  {
   "cell_type": "markdown",
   "metadata": {},
   "source": [
    "### Create Word2Vec model and Load it"
   ]
  },
  {
   "cell_type": "code",
   "execution_count": 2,
   "metadata": {},
   "outputs": [
    {
     "name": "stderr",
     "output_type": "stream",
     "text": [
      "C:\\Users\\uttam\\Anaconda3\\lib\\site-packages\\gensim\\utils.py:1197: UserWarning: detected Windows; aliasing chunkize to chunkize_serial\n",
      "  warnings.warn(\"detected Windows; aliasing chunkize to chunkize_serial\")\n"
     ]
    }
   ],
   "source": [
    "from gensim.models import Word2Vec\n",
    "\n",
    "# model = Word2Vec(c.sents() + d.sents(), size=100, min_count=1, window=5)\n",
    "model = Word2Vec.load('./nep_clean2vec.model')"
   ]
  },
  {
   "cell_type": "markdown",
   "metadata": {},
   "source": [
    "### Save Word2Vec model"
   ]
  },
  {
   "cell_type": "code",
   "execution_count": 4,
   "metadata": {},
   "outputs": [],
   "source": [
    "from gensim.test.utils import get_tmpfile\n",
    "\n",
    "# Save new model\n",
    "path = get_tmpfile(\"large_nep2vec.model\")\n",
    "model.save(\"large_nep2vec.model\")"
   ]
  },
  {
   "cell_type": "code",
   "execution_count": 5,
   "metadata": {},
   "outputs": [],
   "source": [
    "model.wv.save_word2vec_format('large_nep2vec.txt', binary=False)"
   ]
  },
  {
   "cell_type": "markdown",
   "metadata": {},
   "source": [
    "### Check for word similarity"
   ]
  },
  {
   "cell_type": "code",
   "execution_count": 6,
   "metadata": {},
   "outputs": [
    {
     "data": {
      "text/plain": [
       "[('व्याख्या', 0.8840928077697754),\n",
       " ('अवलम्बन', 0.8572344779968262),\n",
       " ('प्रचारप्रसार', 0.8468672037124634),\n",
       " ('अवलम्वन', 0.8468663692474365),\n",
       " ('ग्रहण', 0.8463085293769836)]"
      ]
     },
     "execution_count": 6,
     "metadata": {},
     "output_type": "execute_result"
    }
   ],
   "source": [
    "model.wv.most_similar('प्रचार', topn=5)"
   ]
  },
  {
   "cell_type": "code",
   "execution_count": 11,
   "metadata": {},
   "outputs": [
    {
     "data": {
      "text/plain": [
       "[('उपेक्षा', 0.8986021876335144),\n",
       " ('अंगीकार', 0.8938071727752686),\n",
       " ('अपमान', 0.8894649744033813),\n",
       " ('नक्कल', 0.8889648914337158),\n",
       " ('स्विकार', 0.8882496953010559)]"
      ]
     },
     "execution_count": 11,
     "metadata": {},
     "output_type": "execute_result"
    }
   ],
   "source": [
    "model.wv.most_similar('हेला', topn=5)"
   ]
  },
  {
   "cell_type": "code",
   "execution_count": null,
   "metadata": {},
   "outputs": [],
   "source": []
  }
 ],
 "metadata": {
  "kernelspec": {
   "display_name": "Python 3",
   "language": "python",
   "name": "python3"
  },
  "language_info": {
   "codemirror_mode": {
    "name": "ipython",
    "version": 3
   },
   "file_extension": ".py",
   "mimetype": "text/x-python",
   "name": "python",
   "nbconvert_exporter": "python",
   "pygments_lexer": "ipython3",
   "version": "3.7.0"
  }
 },
 "nbformat": 4,
 "nbformat_minor": 2
}
